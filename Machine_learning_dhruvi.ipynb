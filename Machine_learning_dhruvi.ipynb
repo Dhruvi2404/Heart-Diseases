{
 "cells": [
  {
   "cell_type": "code",
   "execution_count": 2,
   "metadata": {},
   "outputs": [],
   "source": [
    "import numpy as np\n",
    "import pandas as pd\n",
    "import matplotlib.pyplot as plt"
   ]
  },
  {
   "cell_type": "markdown",
   "metadata": {},
   "source": [
    "### Link to the dataset"
   ]
  },
  {
   "cell_type": "markdown",
   "metadata": {},
   "source": [
    "    https://www.kaggle.com/ronitf/heart-disease-uci"
   ]
  },
  {
   "cell_type": "code",
   "execution_count": 3,
   "metadata": {},
   "outputs": [],
   "source": [
    "heart = pd.read_csv(r\"C:\\Users\\dell\\Desktop\\SEM 4\\Machine Learning\\Project\\heart.csv\")"
   ]
  },
  {
   "cell_type": "markdown",
   "metadata": {},
   "source": [
    "## Description of Variables "
   ]
  },
  {
   "cell_type": "markdown",
   "metadata": {},
   "source": [
    "        1. age age in years\n",
    "        2. sex(1 = male; 0 = female)\n",
    "        3. cp chest pain type\n",
    "        4. trestbps resting blood pressure (in mm Hg on admission to the hospital)\n",
    "        5. chol serum cholestoral in mg/dl\n",
    "        6. fbs (fasting blood sugar > 120 mg/dl) (1 = true; 0 = false)\n",
    "        7. restecg resting electrocardiographic results\n",
    "        8. thalach maximum heart rate achieved\n",
    "        9. exang exercise induced angina (1 = yes; 0 = no)\n",
    "        10. oldpeak ST depression induced by exercise relative to rest\n",
    "        11. slope the slope of the peak exercise ST segment\n",
    "        12. ca number of major vessels (0-3) colored by flourosopy\n",
    "        13. thal 3 = normal; 6 = fixed defect; 7 = reversable defect\n",
    "        14. target 1 or 0"
   ]
  },
  {
   "cell_type": "code",
   "execution_count": 194,
   "metadata": {},
   "outputs": [
    {
     "data": {
      "text/html": [
       "<div>\n",
       "<style scoped>\n",
       "    .dataframe tbody tr th:only-of-type {\n",
       "        vertical-align: middle;\n",
       "    }\n",
       "\n",
       "    .dataframe tbody tr th {\n",
       "        vertical-align: top;\n",
       "    }\n",
       "\n",
       "    .dataframe thead th {\n",
       "        text-align: right;\n",
       "    }\n",
       "</style>\n",
       "<table border=\"1\" class=\"dataframe\">\n",
       "  <thead>\n",
       "    <tr style=\"text-align: right;\">\n",
       "      <th></th>\n",
       "      <th>age</th>\n",
       "      <th>sex</th>\n",
       "      <th>cp</th>\n",
       "      <th>trestbps</th>\n",
       "      <th>chol</th>\n",
       "      <th>fbs</th>\n",
       "      <th>restecg</th>\n",
       "      <th>thalach</th>\n",
       "      <th>exang</th>\n",
       "      <th>oldpeak</th>\n",
       "      <th>slope</th>\n",
       "      <th>ca</th>\n",
       "      <th>thal</th>\n",
       "      <th>target</th>\n",
       "    </tr>\n",
       "  </thead>\n",
       "  <tbody>\n",
       "    <tr>\n",
       "      <th>0</th>\n",
       "      <td>63</td>\n",
       "      <td>1</td>\n",
       "      <td>3</td>\n",
       "      <td>145</td>\n",
       "      <td>233</td>\n",
       "      <td>1</td>\n",
       "      <td>0</td>\n",
       "      <td>150</td>\n",
       "      <td>0</td>\n",
       "      <td>2.3</td>\n",
       "      <td>0</td>\n",
       "      <td>0</td>\n",
       "      <td>1</td>\n",
       "      <td>1</td>\n",
       "    </tr>\n",
       "    <tr>\n",
       "      <th>1</th>\n",
       "      <td>37</td>\n",
       "      <td>1</td>\n",
       "      <td>2</td>\n",
       "      <td>130</td>\n",
       "      <td>250</td>\n",
       "      <td>0</td>\n",
       "      <td>1</td>\n",
       "      <td>187</td>\n",
       "      <td>0</td>\n",
       "      <td>3.5</td>\n",
       "      <td>0</td>\n",
       "      <td>0</td>\n",
       "      <td>2</td>\n",
       "      <td>1</td>\n",
       "    </tr>\n",
       "    <tr>\n",
       "      <th>2</th>\n",
       "      <td>41</td>\n",
       "      <td>0</td>\n",
       "      <td>1</td>\n",
       "      <td>130</td>\n",
       "      <td>204</td>\n",
       "      <td>0</td>\n",
       "      <td>0</td>\n",
       "      <td>172</td>\n",
       "      <td>0</td>\n",
       "      <td>1.4</td>\n",
       "      <td>2</td>\n",
       "      <td>0</td>\n",
       "      <td>2</td>\n",
       "      <td>1</td>\n",
       "    </tr>\n",
       "    <tr>\n",
       "      <th>3</th>\n",
       "      <td>56</td>\n",
       "      <td>1</td>\n",
       "      <td>1</td>\n",
       "      <td>120</td>\n",
       "      <td>236</td>\n",
       "      <td>0</td>\n",
       "      <td>1</td>\n",
       "      <td>178</td>\n",
       "      <td>0</td>\n",
       "      <td>0.8</td>\n",
       "      <td>2</td>\n",
       "      <td>0</td>\n",
       "      <td>2</td>\n",
       "      <td>1</td>\n",
       "    </tr>\n",
       "    <tr>\n",
       "      <th>4</th>\n",
       "      <td>57</td>\n",
       "      <td>0</td>\n",
       "      <td>0</td>\n",
       "      <td>120</td>\n",
       "      <td>354</td>\n",
       "      <td>0</td>\n",
       "      <td>1</td>\n",
       "      <td>163</td>\n",
       "      <td>1</td>\n",
       "      <td>0.6</td>\n",
       "      <td>2</td>\n",
       "      <td>0</td>\n",
       "      <td>2</td>\n",
       "      <td>1</td>\n",
       "    </tr>\n",
       "  </tbody>\n",
       "</table>\n",
       "</div>"
      ],
      "text/plain": [
       "   age  sex  cp  trestbps  chol  fbs  restecg  thalach  exang  oldpeak  slope  \\\n",
       "0   63    1   3       145   233    1        0      150      0      2.3      0   \n",
       "1   37    1   2       130   250    0        1      187      0      3.5      0   \n",
       "2   41    0   1       130   204    0        0      172      0      1.4      2   \n",
       "3   56    1   1       120   236    0        1      178      0      0.8      2   \n",
       "4   57    0   0       120   354    0        1      163      1      0.6      2   \n",
       "\n",
       "   ca  thal  target  \n",
       "0   0     1       1  \n",
       "1   0     2       1  \n",
       "2   0     2       1  \n",
       "3   0     2       1  \n",
       "4   0     2       1  "
      ]
     },
     "execution_count": 194,
     "metadata": {},
     "output_type": "execute_result"
    }
   ],
   "source": [
    "heart.head()"
   ]
  },
  {
   "cell_type": "markdown",
   "metadata": {},
   "source": [
    "## Basic Observations and plots"
   ]
  },
  {
   "cell_type": "code",
   "execution_count": 275,
   "metadata": {},
   "outputs": [
    {
     "data": {
      "image/png": "[encoded data removed]",
      "text/plain": [
       "<Figure size 432x288 with 1 Axes>"
      ]
     },
     "metadata": {
      "needs_background": "light"
     },
     "output_type": "display_data"
    }
   ],
   "source": [
    "gender, unique = heart.sex.unique(), heart.sex.value_counts()\n",
    "unique_gender = dict(zip(gender, unique))\n",
    "plt.bar(unique_gender.keys(), unique_gender.values())\n",
    "plt.xlabel('Sex ( 0 : Female, 1 : Male)')\n",
    "plt.ylabel('Count')\n",
    "plt.show()"
   ]
  },
  {
   "cell_type": "code",
   "execution_count": 269,
   "metadata": {},
   "outputs": [
    {
     "name": "stdout",
     "output_type": "stream",
     "text": [
      "Percent of Women:  31.68 %\n",
      "Percent of Men:  68.32 %\n"
     ]
    }
   ],
   "source": [
    "women = len(heart[heart.sex == 0])/len(heart)*100\n",
    "men = len(heart[heart.sex == 1])/len(heart)*100\n",
    "print(\"Percent of Women: \", round(women, 2), '%')\n",
    "print(\"Percent of Men: \", round(men, 2), '%')"
   ]
  },
  {
   "cell_type": "markdown",
   "metadata": {},
   "source": [
    "    The number of female patients are much lower than males"
   ]
  },
  {
   "cell_type": "code",
   "execution_count": 274,
   "metadata": {},
   "outputs": [
    {
     "data": {
      "image/png": "[encoded data removed]",
      "text/plain": [
       "<Figure size 432x288 with 1 Axes>"
      ]
     },
     "metadata": {
      "needs_background": "light"
     },
     "output_type": "display_data"
    }
   ],
   "source": [
    "plt.bar(heart.target.unique(), heart.target.value_counts())\n",
    "plt.xlabel('0 : Does not have Disease, 1 : Has Disease')\n",
    "plt.ylabel('Count')\n",
    "plt.show()"
   ]
  },
  {
   "cell_type": "code",
   "execution_count": 273,
   "metadata": {},
   "outputs": [
    {
     "name": "stdout",
     "output_type": "stream",
     "text": [
      "People who do not have the disease :  45.54 %\n",
      "People who have the disease :  54.46 %\n"
     ]
    }
   ],
   "source": [
    "no_disease = len(heart[heart.target == 0])/len(heart)*100\n",
    "disease = len(heart[heart.target == 1])/len(heart)*100\n",
    "print(\"People who do not have the disease : \", round(no_disease, 2), '%')\n",
    "print(\"People who have the disease : \", round(disease, 2), '%')"
   ]
  },
  {
   "cell_type": "markdown",
   "metadata": {},
   "source": [
    "    A high number of people suffer from heart diseases"
   ]
  },
  {
   "cell_type": "code",
   "execution_count": 229,
   "metadata": {},
   "outputs": [
    {
     "data": {
      "text/html": [
       "<style  type=\"text/css\" >\n",
       "    #T_091deeec_94b2_11ea_83d2_74e5f93a19b5row0_col0 {\n",
       "            background-color:  #b40426;\n",
       "        }    #T_091deeec_94b2_11ea_83d2_74e5f93a19b5row0_col1 {\n",
       "            background-color:  #6788ee;\n",
       "        }    #T_091deeec_94b2_11ea_83d2_74e5f93a19b5row0_col2 {\n",
       "            background-color:  #86a9fc;\n",
       "        }    #T_091deeec_94b2_11ea_83d2_74e5f93a19b5row0_col3 {\n",
       "            background-color:  #b6cefa;\n",
       "        }    #T_091deeec_94b2_11ea_83d2_74e5f93a19b5row0_col4 {\n",
       "            background-color:  #adc9fd;\n",
       "        }    #T_091deeec_94b2_11ea_83d2_74e5f93a19b5row0_col5 {\n",
       "            background-color:  #779af7;\n",
       "        }    #T_091deeec_94b2_11ea_83d2_74e5f93a19b5row0_col6 {\n",
       "            background-color:  #4358cb;\n",
       "        }    #T_091deeec_94b2_11ea_83d2_74e5f93a19b5row0_col7 {\n",
       "            background-color:  #3b4cc0;\n",
       "        }    #T_091deeec_94b2_11ea_83d2_74e5f93a19b5row0_col8 {\n",
       "            background-color:  #b7cff9;\n",
       "        }    #T_091deeec_94b2_11ea_83d2_74e5f93a19b5row0_col9 {\n",
       "            background-color:  #dcdddd;\n",
       "        }    #T_091deeec_94b2_11ea_83d2_74e5f93a19b5row0_col10 {\n",
       "            background-color:  #90b2fe;\n",
       "        }    #T_091deeec_94b2_11ea_83d2_74e5f93a19b5row0_col11 {\n",
       "            background-color:  #d7dce3;\n",
       "        }    #T_091deeec_94b2_11ea_83d2_74e5f93a19b5row0_col12 {\n",
       "            background-color:  #a1c0ff;\n",
       "        }    #T_091deeec_94b2_11ea_83d2_74e5f93a19b5row0_col13 {\n",
       "            background-color:  #688aef;\n",
       "        }    #T_091deeec_94b2_11ea_83d2_74e5f93a19b5row1_col0 {\n",
       "            background-color:  #80a3fa;\n",
       "        }    #T_091deeec_94b2_11ea_83d2_74e5f93a19b5row1_col1 {\n",
       "            background-color:  #b40426;\n",
       "        }    #T_091deeec_94b2_11ea_83d2_74e5f93a19b5row1_col2 {\n",
       "            background-color:  #8caffe;\n",
       "        }    #T_091deeec_94b2_11ea_83d2_74e5f93a19b5row1_col3 {\n",
       "            background-color:  #516ddb;\n",
       "        }    #T_091deeec_94b2_11ea_83d2_74e5f93a19b5row1_col4 {\n",
       "            background-color:  #3b4cc0;\n",
       "        }    #T_091deeec_94b2_11ea_83d2_74e5f93a19b5row1_col5 {\n",
       "            background-color:  #5f7fe8;\n",
       "        }    #T_091deeec_94b2_11ea_83d2_74e5f93a19b5row1_col6 {\n",
       "            background-color:  #536edd;\n",
       "        }    #T_091deeec_94b2_11ea_83d2_74e5f93a19b5row1_col7 {\n",
       "            background-color:  #8db0fe;\n",
       "        }    #T_091deeec_94b2_11ea_83d2_74e5f93a19b5row1_col8 {\n",
       "            background-color:  #c1d4f4;\n",
       "        }    #T_091deeec_94b2_11ea_83d2_74e5f93a19b5row1_col9 {\n",
       "            background-color:  #c9d7f0;\n",
       "        }    #T_091deeec_94b2_11ea_83d2_74e5f93a19b5row1_col10 {\n",
       "            background-color:  #aec9fc;\n",
       "        }    #T_091deeec_94b2_11ea_83d2_74e5f93a19b5row1_col11 {\n",
       "            background-color:  #b5cdfa;\n",
       "        }    #T_091deeec_94b2_11ea_83d2_74e5f93a19b5row1_col12 {\n",
       "            background-color:  #c4d5f3;\n",
       "        }    #T_091deeec_94b2_11ea_83d2_74e5f93a19b5row1_col13 {\n",
       "            background-color:  #5b7ae5;\n",
       "        }    #T_091deeec_94b2_11ea_83d2_74e5f93a19b5row2_col0 {\n",
       "            background-color:  #88abfd;\n",
       "        }    #T_091deeec_94b2_11ea_83d2_74e5f93a19b5row2_col1 {\n",
       "            background-color:  #7597f6;\n",
       "        }    #T_091deeec_94b2_11ea_83d2_74e5f93a19b5row2_col2 {\n",
       "            background-color:  #b40426;\n",
       "        }    #T_091deeec_94b2_11ea_83d2_74e5f93a19b5row2_col3 {\n",
       "            background-color:  #7093f3;\n",
       "        }    #T_091deeec_94b2_11ea_83d2_74e5f93a19b5row2_col4 {\n",
       "            background-color:  #5977e3;\n",
       "        }    #T_091deeec_94b2_11ea_83d2_74e5f93a19b5row2_col5 {\n",
       "            background-color:  #6f92f3;\n",
       "        }    #T_091deeec_94b2_11ea_83d2_74e5f93a19b5row2_col6 {\n",
       "            background-color:  #7093f3;\n",
       "        }    #T_091deeec_94b2_11ea_83d2_74e5f93a19b5row2_col7 {\n",
       "            background-color:  #dcdddd;\n",
       "        }    #T_091deeec_94b2_11ea_83d2_74e5f93a19b5row2_col8 {\n",
       "            background-color:  #4358cb;\n",
       "        }    #T_091deeec_94b2_11ea_83d2_74e5f93a19b5row2_col9 {\n",
       "            background-color:  #94b6ff;\n",
       "        }    #T_091deeec_94b2_11ea_83d2_74e5f93a19b5row2_col10 {\n",
       "            background-color:  #cdd9ec;\n",
       "        }    #T_091deeec_94b2_11ea_83d2_74e5f93a19b5row2_col11 {\n",
       "            background-color:  #6a8bef;\n",
       "        }    #T_091deeec_94b2_11ea_83d2_74e5f93a19b5row2_col12 {\n",
       "            background-color:  #6485ec;\n",
       "        }    #T_091deeec_94b2_11ea_83d2_74e5f93a19b5row2_col13 {\n",
       "            background-color:  #f2c9b4;\n",
       "        }    #T_091deeec_94b2_11ea_83d2_74e5f93a19b5row3_col0 {\n",
       "            background-color:  #d9dce1;\n",
       "        }    #T_091deeec_94b2_11ea_83d2_74e5f93a19b5row3_col1 {\n",
       "            background-color:  #7295f4;\n",
       "        }    #T_091deeec_94b2_11ea_83d2_74e5f93a19b5row3_col2 {\n",
       "            background-color:  #a5c3fe;\n",
       "        }    #T_091deeec_94b2_11ea_83d2_74e5f93a19b5row3_col3 {\n",
       "            background-color:  #b40426;\n",
       "        }    #T_091deeec_94b2_11ea_83d2_74e5f93a19b5row3_col4 {\n",
       "            background-color:  #93b5fe;\n",
       "        }    #T_091deeec_94b2_11ea_83d2_74e5f93a19b5row3_col5 {\n",
       "            background-color:  #89acfd;\n",
       "        }    #T_091deeec_94b2_11ea_83d2_74e5f93a19b5row3_col6 {\n",
       "            background-color:  #445acc;\n",
       "        }    #T_091deeec_94b2_11ea_83d2_74e5f93a19b5row3_col7 {\n",
       "            background-color:  #8db0fe;\n",
       "        }    #T_091deeec_94b2_11ea_83d2_74e5f93a19b5row3_col8 {\n",
       "            background-color:  #afcafc;\n",
       "        }    #T_091deeec_94b2_11ea_83d2_74e5f93a19b5row3_col9 {\n",
       "            background-color:  #dadce0;\n",
       "        }    #T_091deeec_94b2_11ea_83d2_74e5f93a19b5row3_col10 {\n",
       "            background-color:  #9bbcff;\n",
       "        }    #T_091deeec_94b2_11ea_83d2_74e5f93a19b5row3_col11 {\n",
       "            background-color:  #b1cbfc;\n",
       "        }    #T_091deeec_94b2_11ea_83d2_74e5f93a19b5row3_col12 {\n",
       "            background-color:  #9fbfff;\n",
       "        }    #T_091deeec_94b2_11ea_83d2_74e5f93a19b5row3_col13 {\n",
       "            background-color:  #7b9ff9;\n",
       "        }    #T_091deeec_94b2_11ea_83d2_74e5f93a19b5row4_col0 {\n",
       "            background-color:  #ccd9ed;\n",
       "        }    #T_091deeec_94b2_11ea_83d2_74e5f93a19b5row4_col1 {\n",
       "            background-color:  #4e68d8;\n",
       "        }    #T_091deeec_94b2_11ea_83d2_74e5f93a19b5row4_col2 {\n",
       "            background-color:  #85a8fc;\n",
       "        }    #T_091deeec_94b2_11ea_83d2_74e5f93a19b5row4_col3 {\n",
       "            background-color:  #86a9fc;\n",
       "        }    #T_091deeec_94b2_11ea_83d2_74e5f93a19b5row4_col4 {\n",
       "            background-color:  #b40426;\n",
       "        }    #T_091deeec_94b2_11ea_83d2_74e5f93a19b5row4_col5 {\n",
       "            background-color:  #5673e0;\n",
       "        }    #T_091deeec_94b2_11ea_83d2_74e5f93a19b5row4_col6 {\n",
       "            background-color:  #3b4cc0;\n",
       "        }    #T_091deeec_94b2_11ea_83d2_74e5f93a19b5row4_col7 {\n",
       "            background-color:  #97b8ff;\n",
       "        }    #T_091deeec_94b2_11ea_83d2_74e5f93a19b5row4_col8 {\n",
       "            background-color:  #afcafc;\n",
       "        }    #T_091deeec_94b2_11ea_83d2_74e5f93a19b5row4_col9 {\n",
       "            background-color:  #c0d4f5;\n",
       "        }    #T_091deeec_94b2_11ea_83d2_74e5f93a19b5row4_col10 {\n",
       "            background-color:  #b5cdfa;\n",
       "        }    #T_091deeec_94b2_11ea_83d2_74e5f93a19b5row4_col11 {\n",
       "            background-color:  #aac7fd;\n",
       "        }    #T_091deeec_94b2_11ea_83d2_74e5f93a19b5row4_col12 {\n",
       "            background-color:  #a9c6fd;\n",
       "        }    #T_091deeec_94b2_11ea_83d2_74e5f93a19b5row4_col13 {\n",
       "            background-color:  #8badfd;\n",
       "        }    #T_091deeec_94b2_11ea_83d2_74e5f93a19b5row5_col0 {\n",
       "            background-color:  #b7cff9;\n",
       "        }    #T_091deeec_94b2_11ea_83d2_74e5f93a19b5row5_col1 {\n",
       "            background-color:  #8fb1fe;\n",
       "        }    #T_091deeec_94b2_11ea_83d2_74e5f93a19b5row5_col2 {\n",
       "            background-color:  #afcafc;\n",
       "        }    #T_091deeec_94b2_11ea_83d2_74e5f93a19b5row5_col3 {\n",
       "            background-color:  #98b9ff;\n",
       "        }    #T_091deeec_94b2_11ea_83d2_74e5f93a19b5row5_col4 {\n",
       "            background-color:  #7396f5;\n",
       "        }    #T_091deeec_94b2_11ea_83d2_74e5f93a19b5row5_col5 {\n",
       "            background-color:  #b40426;\n",
       "        }    #T_091deeec_94b2_11ea_83d2_74e5f93a19b5row5_col6 {\n",
       "            background-color:  #4b64d5;\n",
       "        }    #T_091deeec_94b2_11ea_83d2_74e5f93a19b5row5_col7 {\n",
       "            background-color:  #97b8ff;\n",
       "        }    #T_091deeec_94b2_11ea_83d2_74e5f93a19b5row5_col8 {\n",
       "            background-color:  #a6c4fe;\n",
       "        }    #T_091deeec_94b2_11ea_83d2_74e5f93a19b5row5_col9 {\n",
       "            background-color:  #b6cefa;\n",
       "        }    #T_091deeec_94b2_11ea_83d2_74e5f93a19b5row5_col10 {\n",
       "            background-color:  #a9c6fd;\n",
       "        }    #T_091deeec_94b2_11ea_83d2_74e5f93a19b5row5_col11 {\n",
       "            background-color:  #bad0f8;\n",
       "        }    #T_091deeec_94b2_11ea_83d2_74e5f93a19b5row5_col12 {\n",
       "            background-color:  #86a9fc;\n",
       "        }    #T_091deeec_94b2_11ea_83d2_74e5f93a19b5row5_col13 {\n",
       "            background-color:  #98b9ff;\n",
       "        }    #T_091deeec_94b2_11ea_83d2_74e5f93a19b5row6_col0 {\n",
       "            background-color:  #7b9ff9;\n",
       "        }    #T_091deeec_94b2_11ea_83d2_74e5f93a19b5row6_col1 {\n",
       "            background-color:  #7295f4;\n",
       "        }    #T_091deeec_94b2_11ea_83d2_74e5f93a19b5row6_col2 {\n",
       "            background-color:  #a3c2fe;\n",
       "        }    #T_091deeec_94b2_11ea_83d2_74e5f93a19b5row6_col3 {\n",
       "            background-color:  #4257c9;\n",
       "        }    #T_091deeec_94b2_11ea_83d2_74e5f93a19b5row6_col4 {\n",
       "            background-color:  #465ecf;\n",
       "        }    #T_091deeec_94b2_11ea_83d2_74e5f93a19b5row6_col5 {\n",
       "            background-color:  #3b4cc0;\n",
       "        }    #T_091deeec_94b2_11ea_83d2_74e5f93a19b5row6_col6 {\n",
       "            background-color:  #b40426;\n",
       "        }    #T_091deeec_94b2_11ea_83d2_74e5f93a19b5row6_col7 {\n",
       "            background-color:  #a5c3fe;\n",
       "        }    #T_091deeec_94b2_11ea_83d2_74e5f93a19b5row6_col8 {\n",
       "            background-color:  #8fb1fe;\n",
       "        }    #T_091deeec_94b2_11ea_83d2_74e5f93a19b5row6_col9 {\n",
       "            background-color:  #a9c6fd;\n",
       "        }    #T_091deeec_94b2_11ea_83d2_74e5f93a19b5row6_col10 {\n",
       "            background-color:  #c7d7f0;\n",
       "        }    #T_091deeec_94b2_11ea_83d2_74e5f93a19b5row6_col11 {\n",
       "            background-color:  #85a8fc;\n",
       "        }    #T_091deeec_94b2_11ea_83d2_74e5f93a19b5row6_col12 {\n",
       "            background-color:  #8caffe;\n",
       "        }    #T_091deeec_94b2_11ea_83d2_74e5f93a19b5row6_col13 {\n",
       "            background-color:  #c0d4f5;\n",
       "        }    #T_091deeec_94b2_11ea_83d2_74e5f93a19b5row7_col0 {\n",
       "            background-color:  #3b4cc0;\n",
       "        }    #T_091deeec_94b2_11ea_83d2_74e5f93a19b5row7_col1 {\n",
       "            background-color:  #7699f6;\n",
       "        }    #T_091deeec_94b2_11ea_83d2_74e5f93a19b5row7_col2 {\n",
       "            background-color:  #dbdcde;\n",
       "        }    #T_091deeec_94b2_11ea_83d2_74e5f93a19b5row7_col3 {\n",
       "            background-color:  #5470de;\n",
       "        }    #T_091deeec_94b2_11ea_83d2_74e5f93a19b5row7_col4 {\n",
       "            background-color:  #6c8ff1;\n",
       "        }    #T_091deeec_94b2_11ea_83d2_74e5f93a19b5row7_col5 {\n",
       "            background-color:  #4f69d9;\n",
       "        }    #T_091deeec_94b2_11ea_83d2_74e5f93a19b5row7_col6 {\n",
       "            background-color:  #7093f3;\n",
       "        }    #T_091deeec_94b2_11ea_83d2_74e5f93a19b5row7_col7 {\n",
       "            background-color:  #b40426;\n",
       "        }    #T_091deeec_94b2_11ea_83d2_74e5f93a19b5row7_col8 {\n",
       "            background-color:  #465ecf;\n",
       "        }    #T_091deeec_94b2_11ea_83d2_74e5f93a19b5row7_col9 {\n",
       "            background-color:  #688aef;\n",
       "        }    #T_091deeec_94b2_11ea_83d2_74e5f93a19b5row7_col10 {\n",
       "            background-color:  #f3c8b2;\n",
       "        }    #T_091deeec_94b2_11ea_83d2_74e5f93a19b5row7_col11 {\n",
       "            background-color:  #6282ea;\n",
       "        }    #T_091deeec_94b2_11ea_83d2_74e5f93a19b5row7_col12 {\n",
       "            background-color:  #7699f6;\n",
       "        }    #T_091deeec_94b2_11ea_83d2_74e5f93a19b5row7_col13 {\n",
       "            background-color:  #f1ccb8;\n",
       "        }    #T_091deeec_94b2_11ea_83d2_74e5f93a19b5row8_col0 {\n",
       "            background-color:  #b1cbfc;\n",
       "        }    #T_091deeec_94b2_11ea_83d2_74e5f93a19b5row8_col1 {\n",
       "            background-color:  #a9c6fd;\n",
       "        }    #T_091deeec_94b2_11ea_83d2_74e5f93a19b5row8_col2 {\n",
       "            background-color:  #3b4cc0;\n",
       "        }    #T_091deeec_94b2_11ea_83d2_74e5f93a19b5row8_col3 {\n",
       "            background-color:  #7699f6;\n",
       "        }    #T_091deeec_94b2_11ea_83d2_74e5f93a19b5row8_col4 {\n",
       "            background-color:  #82a6fb;\n",
       "        }    #T_091deeec_94b2_11ea_83d2_74e5f93a19b5row8_col5 {\n",
       "            background-color:  #5977e3;\n",
       "        }    #T_091deeec_94b2_11ea_83d2_74e5f93a19b5row8_col6 {\n",
       "            background-color:  #4f69d9;\n",
       "        }    #T_091deeec_94b2_11ea_83d2_74e5f93a19b5row8_col7 {\n",
       "            background-color:  #3e51c5;\n",
       "        }    #T_091deeec_94b2_11ea_83d2_74e5f93a19b5row8_col8 {\n",
       "            background-color:  #b40426;\n",
       "        }    #T_091deeec_94b2_11ea_83d2_74e5f93a19b5row8_col9 {\n",
       "            background-color:  #e9d5cb;\n",
       "        }    #T_091deeec_94b2_11ea_83d2_74e5f93a19b5row8_col10 {\n",
       "            background-color:  #7b9ff9;\n",
       "        }    #T_091deeec_94b2_11ea_83d2_74e5f93a19b5row8_col11 {\n",
       "            background-color:  #b5cdfa;\n",
       "        }    #T_091deeec_94b2_11ea_83d2_74e5f93a19b5row8_col12 {\n",
       "            background-color:  #c3d5f4;\n",
       "        }    #T_091deeec_94b2_11ea_83d2_74e5f93a19b5row8_col13 {\n",
       "            background-color:  #3b4cc0;\n",
       "        }    #T_091deeec_94b2_11ea_83d2_74e5f93a19b5row9_col0 {\n",
       "            background-color:  #cbd8ee;\n",
       "        }    #T_091deeec_94b2_11ea_83d2_74e5f93a19b5row9_col1 {\n",
       "            background-color:  #9dbdff;\n",
       "        }    #T_091deeec_94b2_11ea_83d2_74e5f93a19b5row9_col2 {\n",
       "            background-color:  #7295f4;\n",
       "        }    #T_091deeec_94b2_11ea_83d2_74e5f93a19b5row9_col3 {\n",
       "            background-color:  #9dbdff;\n",
       "        }    #T_091deeec_94b2_11ea_83d2_74e5f93a19b5row9_col4 {\n",
       "            background-color:  #7ea1fa;\n",
       "        }    #T_091deeec_94b2_11ea_83d2_74e5f93a19b5row9_col5 {\n",
       "            background-color:  #5470de;\n",
       "        }    #T_091deeec_94b2_11ea_83d2_74e5f93a19b5row9_col6 {\n",
       "            background-color:  #536edd;\n",
       "        }    #T_091deeec_94b2_11ea_83d2_74e5f93a19b5row9_col7 {\n",
       "            background-color:  #455cce;\n",
       "        }    #T_091deeec_94b2_11ea_83d2_74e5f93a19b5row9_col8 {\n",
       "            background-color:  #dedcdb;\n",
       "        }    #T_091deeec_94b2_11ea_83d2_74e5f93a19b5row9_col9 {\n",
       "            background-color:  #b40426;\n",
       "        }    #T_091deeec_94b2_11ea_83d2_74e5f93a19b5row9_col10 {\n",
       "            background-color:  #3b4cc0;\n",
       "        }    #T_091deeec_94b2_11ea_83d2_74e5f93a19b5row9_col11 {\n",
       "            background-color:  #cdd9ec;\n",
       "        }    #T_091deeec_94b2_11ea_83d2_74e5f93a19b5row9_col12 {\n",
       "            background-color:  #c4d5f3;\n",
       "        }    #T_091deeec_94b2_11ea_83d2_74e5f93a19b5row9_col13 {\n",
       "            background-color:  #3c4ec2;\n",
       "        }    #T_091deeec_94b2_11ea_83d2_74e5f93a19b5row10_col0 {\n",
       "            background-color:  #6f92f3;\n",
       "        }    #T_091deeec_94b2_11ea_83d2_74e5f93a19b5row10_col1 {\n",
       "            background-color:  #7a9df8;\n",
       "        }    #T_091deeec_94b2_11ea_83d2_74e5f93a19b5row10_col2 {\n",
       "            background-color:  #b6cefa;\n",
       "        }    #T_091deeec_94b2_11ea_83d2_74e5f93a19b5row10_col3 {\n",
       "            background-color:  #4055c8;\n",
       "        }    #T_091deeec_94b2_11ea_83d2_74e5f93a19b5row10_col4 {\n",
       "            background-color:  #6e90f2;\n",
       "        }    #T_091deeec_94b2_11ea_83d2_74e5f93a19b5row10_col5 {\n",
       "            background-color:  #4055c8;\n",
       "        }    #T_091deeec_94b2_11ea_83d2_74e5f93a19b5row10_col6 {\n",
       "            background-color:  #80a3fa;\n",
       "        }    #T_091deeec_94b2_11ea_83d2_74e5f93a19b5row10_col7 {\n",
       "            background-color:  #ebd3c6;\n",
       "        }    #T_091deeec_94b2_11ea_83d2_74e5f93a19b5row10_col8 {\n",
       "            background-color:  #6180e9;\n",
       "        }    #T_091deeec_94b2_11ea_83d2_74e5f93a19b5row10_col9 {\n",
       "            background-color:  #3b4cc0;\n",
       "        }    #T_091deeec_94b2_11ea_83d2_74e5f93a19b5row10_col10 {\n",
       "            background-color:  #b40426;\n",
       "        }    #T_091deeec_94b2_11ea_83d2_74e5f93a19b5row10_col11 {\n",
       "            background-color:  #84a7fc;\n",
       "        }    #T_091deeec_94b2_11ea_83d2_74e5f93a19b5row10_col12 {\n",
       "            background-color:  #7396f5;\n",
       "        }    #T_091deeec_94b2_11ea_83d2_74e5f93a19b5row10_col13 {\n",
       "            background-color:  #e8d6cc;\n",
       "        }    #T_091deeec_94b2_11ea_83d2_74e5f93a19b5row11_col0 {\n",
       "            background-color:  #d8dce2;\n",
       "        }    #T_091deeec_94b2_11ea_83d2_74e5f93a19b5row11_col1 {\n",
       "            background-color:  #a2c1ff;\n",
       "        }    #T_091deeec_94b2_11ea_83d2_74e5f93a19b5row11_col2 {\n",
       "            background-color:  #6b8df0;\n",
       "        }    #T_091deeec_94b2_11ea_83d2_74e5f93a19b5row11_col3 {\n",
       "            background-color:  #81a4fb;\n",
       "        }    #T_091deeec_94b2_11ea_83d2_74e5f93a19b5row11_col4 {\n",
       "            background-color:  #84a7fc;\n",
       "        }    #T_091deeec_94b2_11ea_83d2_74e5f93a19b5row11_col5 {\n",
       "            background-color:  #7da0f9;\n",
       "        }    #T_091deeec_94b2_11ea_83d2_74e5f93a19b5row11_col6 {\n",
       "            background-color:  #4f69d9;\n",
       "        }    #T_091deeec_94b2_11ea_83d2_74e5f93a19b5row11_col7 {\n",
       "            background-color:  #6384eb;\n",
       "        }    #T_091deeec_94b2_11ea_83d2_74e5f93a19b5row11_col8 {\n",
       "            background-color:  #bbd1f8;\n",
       "        }    #T_091deeec_94b2_11ea_83d2_74e5f93a19b5row11_col9 {\n",
       "            background-color:  #dedcdb;\n",
       "        }    #T_091deeec_94b2_11ea_83d2_74e5f93a19b5row11_col10 {\n",
       "            background-color:  #a3c2fe;\n",
       "        }    #T_091deeec_94b2_11ea_83d2_74e5f93a19b5row11_col11 {\n",
       "            background-color:  #b40426;\n",
       "        }    #T_091deeec_94b2_11ea_83d2_74e5f93a19b5row11_col12 {\n",
       "            background-color:  #b6cefa;\n",
       "        }    #T_091deeec_94b2_11ea_83d2_74e5f93a19b5row11_col13 {\n",
       "            background-color:  #445acc;\n",
       "        }    #T_091deeec_94b2_11ea_83d2_74e5f93a19b5row12_col0 {\n",
       "            background-color:  #aac7fd;\n",
       "        }    #T_091deeec_94b2_11ea_83d2_74e5f93a19b5row12_col1 {\n",
       "            background-color:  #bbd1f8;\n",
       "        }    #T_091deeec_94b2_11ea_83d2_74e5f93a19b5row12_col2 {\n",
       "            background-color:  #6f92f3;\n",
       "        }    #T_091deeec_94b2_11ea_83d2_74e5f93a19b5row12_col3 {\n",
       "            background-color:  #7597f6;\n",
       "        }    #T_091deeec_94b2_11ea_83d2_74e5f93a19b5row12_col4 {\n",
       "            background-color:  #8caffe;\n",
       "        }    #T_091deeec_94b2_11ea_83d2_74e5f93a19b5row12_col5 {\n",
       "            background-color:  #4961d2;\n",
       "        }    #T_091deeec_94b2_11ea_83d2_74e5f93a19b5row12_col6 {\n",
       "            background-color:  #5f7fe8;\n",
       "        }    #T_091deeec_94b2_11ea_83d2_74e5f93a19b5row12_col7 {\n",
       "            background-color:  #81a4fb;\n",
       "        }    #T_091deeec_94b2_11ea_83d2_74e5f93a19b5row12_col8 {\n",
       "            background-color:  #cedaeb;\n",
       "        }    #T_091deeec_94b2_11ea_83d2_74e5f93a19b5row12_col9 {\n",
       "            background-color:  #dcdddd;\n",
       "        }    #T_091deeec_94b2_11ea_83d2_74e5f93a19b5row12_col10 {\n",
       "            background-color:  #9ebeff;\n",
       "        }    #T_091deeec_94b2_11ea_83d2_74e5f93a19b5row12_col11 {\n",
       "            background-color:  #bcd2f7;\n",
       "        }    #T_091deeec_94b2_11ea_83d2_74e5f93a19b5row12_col12 {\n",
       "            background-color:  #b40426;\n",
       "        }    #T_091deeec_94b2_11ea_83d2_74e5f93a19b5row12_col13 {\n",
       "            background-color:  #4e68d8;\n",
       "        }    #T_091deeec_94b2_11ea_83d2_74e5f93a19b5row13_col0 {\n",
       "            background-color:  #6180e9;\n",
       "        }    #T_091deeec_94b2_11ea_83d2_74e5f93a19b5row13_col1 {\n",
       "            background-color:  #3b4cc0;\n",
       "        }    #T_091deeec_94b2_11ea_83d2_74e5f93a19b5row13_col2 {\n",
       "            background-color:  #f1ccb8;\n",
       "        }    #T_091deeec_94b2_11ea_83d2_74e5f93a19b5row13_col3 {\n",
       "            background-color:  #3b4cc0;\n",
       "        }    #T_091deeec_94b2_11ea_83d2_74e5f93a19b5row13_col4 {\n",
       "            background-color:  #5875e1;\n",
       "        }    #T_091deeec_94b2_11ea_83d2_74e5f93a19b5row13_col5 {\n",
       "            background-color:  #4a63d3;\n",
       "        }    #T_091deeec_94b2_11ea_83d2_74e5f93a19b5row13_col6 {\n",
       "            background-color:  #8db0fe;\n",
       "        }    #T_091deeec_94b2_11ea_83d2_74e5f93a19b5row13_col7 {\n",
       "            background-color:  #f0cdbb;\n",
       "        }    #T_091deeec_94b2_11ea_83d2_74e5f93a19b5row13_col8 {\n",
       "            background-color:  #3b4cc0;\n",
       "        }    #T_091deeec_94b2_11ea_83d2_74e5f93a19b5row13_col9 {\n",
       "            background-color:  #5673e0;\n",
       "        }    #T_091deeec_94b2_11ea_83d2_74e5f93a19b5row13_col10 {\n",
       "            background-color:  #efcebd;\n",
       "        }    #T_091deeec_94b2_11ea_83d2_74e5f93a19b5row13_col11 {\n",
       "            background-color:  #3b4cc0;\n",
       "        }    #T_091deeec_94b2_11ea_83d2_74e5f93a19b5row13_col12 {\n",
       "            background-color:  #3b4cc0;\n",
       "        }    #T_091deeec_94b2_11ea_83d2_74e5f93a19b5row13_col13 {\n",
       "            background-color:  #b40426;\n",
       "        }</style>  \n",
       "<table id=\"T_091deeec_94b2_11ea_83d2_74e5f93a19b5\" > \n",
       "<thead>    <tr> \n",
       "        <th class=\"blank level0\" ></th> \n",
       "        <th class=\"col_heading level0 col0\" >age</th> \n",
       "        <th class=\"col_heading level0 col1\" >sex</th> \n",
       "        <th class=\"col_heading level0 col2\" >cp</th> \n",
       "        <th class=\"col_heading level0 col3\" >trestbps</th> \n",
       "        <th class=\"col_heading level0 col4\" >chol</th> \n",
       "        <th class=\"col_heading level0 col5\" >fbs</th> \n",
       "        <th class=\"col_heading level0 col6\" >restecg</th> \n",
       "        <th class=\"col_heading level0 col7\" >thalach</th> \n",
       "        <th class=\"col_heading level0 col8\" >exang</th> \n",
       "        <th class=\"col_heading level0 col9\" >oldpeak</th> \n",
       "        <th class=\"col_heading level0 col10\" >slope</th> \n",
       "        <th class=\"col_heading level0 col11\" >ca</th> \n",
       "        <th class=\"col_heading level0 col12\" >thal</th> \n",
       "        <th class=\"col_heading level0 col13\" >target</th> \n",
       "    </tr></thead> \n",
       "<tbody>    <tr> \n",
       "        <th id=\"T_091deeec_94b2_11ea_83d2_74e5f93a19b5level0_row0\" class=\"row_heading level0 row0\" >age</th> \n",
       "        <td id=\"T_091deeec_94b2_11ea_83d2_74e5f93a19b5row0_col0\" class=\"data row0 col0\" >1</td> \n",
       "        <td id=\"T_091deeec_94b2_11ea_83d2_74e5f93a19b5row0_col1\" class=\"data row0 col1\" >-0.0984466</td> \n",
       "        <td id=\"T_091deeec_94b2_11ea_83d2_74e5f93a19b5row0_col2\" class=\"data row0 col2\" >-0.068653</td> \n",
       "        <td id=\"T_091deeec_94b2_11ea_83d2_74e5f93a19b5row0_col3\" class=\"data row0 col3\" >0.279351</td> \n",
       "        <td id=\"T_091deeec_94b2_11ea_83d2_74e5f93a19b5row0_col4\" class=\"data row0 col4\" >0.213678</td> \n",
       "        <td id=\"T_091deeec_94b2_11ea_83d2_74e5f93a19b5row0_col5\" class=\"data row0 col5\" >0.121308</td> \n",
       "        <td id=\"T_091deeec_94b2_11ea_83d2_74e5f93a19b5row0_col6\" class=\"data row0 col6\" >-0.116211</td> \n",
       "        <td id=\"T_091deeec_94b2_11ea_83d2_74e5f93a19b5row0_col7\" class=\"data row0 col7\" >-0.398522</td> \n",
       "        <td id=\"T_091deeec_94b2_11ea_83d2_74e5f93a19b5row0_col8\" class=\"data row0 col8\" >0.0968008</td> \n",
       "        <td id=\"T_091deeec_94b2_11ea_83d2_74e5f93a19b5row0_col9\" class=\"data row0 col9\" >0.210013</td> \n",
       "        <td id=\"T_091deeec_94b2_11ea_83d2_74e5f93a19b5row0_col10\" class=\"data row0 col10\" >-0.168814</td> \n",
       "        <td id=\"T_091deeec_94b2_11ea_83d2_74e5f93a19b5row0_col11\" class=\"data row0 col11\" >0.276326</td> \n",
       "        <td id=\"T_091deeec_94b2_11ea_83d2_74e5f93a19b5row0_col12\" class=\"data row0 col12\" >0.0680014</td> \n",
       "        <td id=\"T_091deeec_94b2_11ea_83d2_74e5f93a19b5row0_col13\" class=\"data row0 col13\" >-0.225439</td> \n",
       "    </tr>    <tr> \n",
       "        <th id=\"T_091deeec_94b2_11ea_83d2_74e5f93a19b5level0_row1\" class=\"row_heading level0 row1\" >sex</th> \n",
       "        <td id=\"T_091deeec_94b2_11ea_83d2_74e5f93a19b5row1_col0\" class=\"data row1 col0\" >-0.0984466</td> \n",
       "        <td id=\"T_091deeec_94b2_11ea_83d2_74e5f93a19b5row1_col1\" class=\"data row1 col1\" >1</td> \n",
       "        <td id=\"T_091deeec_94b2_11ea_83d2_74e5f93a19b5row1_col2\" class=\"data row1 col2\" >-0.0493529</td> \n",
       "        <td id=\"T_091deeec_94b2_11ea_83d2_74e5f93a19b5row1_col3\" class=\"data row1 col3\" >-0.0567688</td> \n",
       "        <td id=\"T_091deeec_94b2_11ea_83d2_74e5f93a19b5row1_col4\" class=\"data row1 col4\" >-0.197912</td> \n",
       "        <td id=\"T_091deeec_94b2_11ea_83d2_74e5f93a19b5row1_col5\" class=\"data row1 col5\" >0.0450318</td> \n",
       "        <td id=\"T_091deeec_94b2_11ea_83d2_74e5f93a19b5row1_col6\" class=\"data row1 col6\" >-0.0581963</td> \n",
       "        <td id=\"T_091deeec_94b2_11ea_83d2_74e5f93a19b5row1_col7\" class=\"data row1 col7\" >-0.0440199</td> \n",
       "        <td id=\"T_091deeec_94b2_11ea_83d2_74e5f93a19b5row1_col8\" class=\"data row1 col8\" >0.141664</td> \n",
       "        <td id=\"T_091deeec_94b2_11ea_83d2_74e5f93a19b5row1_col9\" class=\"data row1 col9\" >0.0960929</td> \n",
       "        <td id=\"T_091deeec_94b2_11ea_83d2_74e5f93a19b5row1_col10\" class=\"data row1 col10\" >-0.0307106</td> \n",
       "        <td id=\"T_091deeec_94b2_11ea_83d2_74e5f93a19b5row1_col11\" class=\"data row1 col11\" >0.118261</td> \n",
       "        <td id=\"T_091deeec_94b2_11ea_83d2_74e5f93a19b5row1_col12\" class=\"data row1 col12\" >0.210041</td> \n",
       "        <td id=\"T_091deeec_94b2_11ea_83d2_74e5f93a19b5row1_col13\" class=\"data row1 col13\" >-0.280937</td> \n",
       "    </tr>    <tr> \n",
       "        <th id=\"T_091deeec_94b2_11ea_83d2_74e5f93a19b5level0_row2\" class=\"row_heading level0 row2\" >cp</th> \n",
       "        <td id=\"T_091deeec_94b2_11ea_83d2_74e5f93a19b5row2_col0\" class=\"data row2 col0\" >-0.068653</td> \n",
       "        <td id=\"T_091deeec_94b2_11ea_83d2_74e5f93a19b5row2_col1\" class=\"data row2 col1\" >-0.0493529</td> \n",
       "        <td id=\"T_091deeec_94b2_11ea_83d2_74e5f93a19b5row2_col2\" class=\"data row2 col2\" >1</td> \n",
       "        <td id=\"T_091deeec_94b2_11ea_83d2_74e5f93a19b5row2_col3\" class=\"data row2 col3\" >0.0476078</td> \n",
       "        <td id=\"T_091deeec_94b2_11ea_83d2_74e5f93a19b5row2_col4\" class=\"data row2 col4\" >-0.0769044</td> \n",
       "        <td id=\"T_091deeec_94b2_11ea_83d2_74e5f93a19b5row2_col5\" class=\"data row2 col5\" >0.094444</td> \n",
       "        <td id=\"T_091deeec_94b2_11ea_83d2_74e5f93a19b5row2_col6\" class=\"data row2 col6\" >0.0444206</td> \n",
       "        <td id=\"T_091deeec_94b2_11ea_83d2_74e5f93a19b5row2_col7\" class=\"data row2 col7\" >0.295762</td> \n",
       "        <td id=\"T_091deeec_94b2_11ea_83d2_74e5f93a19b5row2_col8\" class=\"data row2 col8\" >-0.39428</td> \n",
       "        <td id=\"T_091deeec_94b2_11ea_83d2_74e5f93a19b5row2_col9\" class=\"data row2 col9\" >-0.14923</td> \n",
       "        <td id=\"T_091deeec_94b2_11ea_83d2_74e5f93a19b5row2_col10\" class=\"data row2 col10\" >0.119717</td> \n",
       "        <td id=\"T_091deeec_94b2_11ea_83d2_74e5f93a19b5row2_col11\" class=\"data row2 col11\" >-0.181053</td> \n",
       "        <td id=\"T_091deeec_94b2_11ea_83d2_74e5f93a19b5row2_col12\" class=\"data row2 col12\" >-0.161736</td> \n",
       "        <td id=\"T_091deeec_94b2_11ea_83d2_74e5f93a19b5row2_col13\" class=\"data row2 col13\" >0.433798</td> \n",
       "    </tr>    <tr> \n",
       "        <th id=\"T_091deeec_94b2_11ea_83d2_74e5f93a19b5level0_row3\" class=\"row_heading level0 row3\" >trestbps</th> \n",
       "        <td id=\"T_091deeec_94b2_11ea_83d2_74e5f93a19b5row3_col0\" class=\"data row3 col0\" >0.279351</td> \n",
       "        <td id=\"T_091deeec_94b2_11ea_83d2_74e5f93a19b5row3_col1\" class=\"data row3 col1\" >-0.0567688</td> \n",
       "        <td id=\"T_091deeec_94b2_11ea_83d2_74e5f93a19b5row3_col2\" class=\"data row3 col2\" >0.0476078</td> \n",
       "        <td id=\"T_091deeec_94b2_11ea_83d2_74e5f93a19b5row3_col3\" class=\"data row3 col3\" >1</td> \n",
       "        <td id=\"T_091deeec_94b2_11ea_83d2_74e5f93a19b5row3_col4\" class=\"data row3 col4\" >0.123174</td> \n",
       "        <td id=\"T_091deeec_94b2_11ea_83d2_74e5f93a19b5row3_col5\" class=\"data row3 col5\" >0.177531</td> \n",
       "        <td id=\"T_091deeec_94b2_11ea_83d2_74e5f93a19b5row3_col6\" class=\"data row3 col6\" >-0.114103</td> \n",
       "        <td id=\"T_091deeec_94b2_11ea_83d2_74e5f93a19b5row3_col7\" class=\"data row3 col7\" >-0.0466977</td> \n",
       "        <td id=\"T_091deeec_94b2_11ea_83d2_74e5f93a19b5row3_col8\" class=\"data row3 col8\" >0.0676161</td> \n",
       "        <td id=\"T_091deeec_94b2_11ea_83d2_74e5f93a19b5row3_col9\" class=\"data row3 col9\" >0.193216</td> \n",
       "        <td id=\"T_091deeec_94b2_11ea_83d2_74e5f93a19b5row3_col10\" class=\"data row3 col10\" >-0.121475</td> \n",
       "        <td id=\"T_091deeec_94b2_11ea_83d2_74e5f93a19b5row3_col11\" class=\"data row3 col11\" >0.101389</td> \n",
       "        <td id=\"T_091deeec_94b2_11ea_83d2_74e5f93a19b5row3_col12\" class=\"data row3 col12\" >0.0622099</td> \n",
       "        <td id=\"T_091deeec_94b2_11ea_83d2_74e5f93a19b5row3_col13\" class=\"data row3 col13\" >-0.144931</td> \n",
       "    </tr>    <tr> \n",
       "        <th id=\"T_091deeec_94b2_11ea_83d2_74e5f93a19b5level0_row4\" class=\"row_heading level0 row4\" >chol</th> \n",
       "        <td id=\"T_091deeec_94b2_11ea_83d2_74e5f93a19b5row4_col0\" class=\"data row4 col0\" >0.213678</td> \n",
       "        <td id=\"T_091deeec_94b2_11ea_83d2_74e5f93a19b5row4_col1\" class=\"data row4 col1\" >-0.197912</td> \n",
       "        <td id=\"T_091deeec_94b2_11ea_83d2_74e5f93a19b5row4_col2\" class=\"data row4 col2\" >-0.0769044</td> \n",
       "        <td id=\"T_091deeec_94b2_11ea_83d2_74e5f93a19b5row4_col3\" class=\"data row4 col3\" >0.123174</td> \n",
       "        <td id=\"T_091deeec_94b2_11ea_83d2_74e5f93a19b5row4_col4\" class=\"data row4 col4\" >1</td> \n",
       "        <td id=\"T_091deeec_94b2_11ea_83d2_74e5f93a19b5row4_col5\" class=\"data row4 col5\" >0.0132936</td> \n",
       "        <td id=\"T_091deeec_94b2_11ea_83d2_74e5f93a19b5row4_col6\" class=\"data row4 col6\" >-0.15104</td> \n",
       "        <td id=\"T_091deeec_94b2_11ea_83d2_74e5f93a19b5row4_col7\" class=\"data row4 col7\" >-0.00993984</td> \n",
       "        <td id=\"T_091deeec_94b2_11ea_83d2_74e5f93a19b5row4_col8\" class=\"data row4 col8\" >0.0670228</td> \n",
       "        <td id=\"T_091deeec_94b2_11ea_83d2_74e5f93a19b5row4_col9\" class=\"data row4 col9\" >0.0539519</td> \n",
       "        <td id=\"T_091deeec_94b2_11ea_83d2_74e5f93a19b5row4_col10\" class=\"data row4 col10\" >-0.00403777</td> \n",
       "        <td id=\"T_091deeec_94b2_11ea_83d2_74e5f93a19b5row4_col11\" class=\"data row4 col11\" >0.0705109</td> \n",
       "        <td id=\"T_091deeec_94b2_11ea_83d2_74e5f93a19b5row4_col12\" class=\"data row4 col12\" >0.098803</td> \n",
       "        <td id=\"T_091deeec_94b2_11ea_83d2_74e5f93a19b5row4_col13\" class=\"data row4 col13\" >-0.0852391</td> \n",
       "    </tr>    <tr> \n",
       "        <th id=\"T_091deeec_94b2_11ea_83d2_74e5f93a19b5level0_row5\" class=\"row_heading level0 row5\" >fbs</th> \n",
       "        <td id=\"T_091deeec_94b2_11ea_83d2_74e5f93a19b5row5_col0\" class=\"data row5 col0\" >0.121308</td> \n",
       "        <td id=\"T_091deeec_94b2_11ea_83d2_74e5f93a19b5row5_col1\" class=\"data row5 col1\" >0.0450318</td> \n",
       "        <td id=\"T_091deeec_94b2_11ea_83d2_74e5f93a19b5row5_col2\" class=\"data row5 col2\" >0.094444</td> \n",
       "        <td id=\"T_091deeec_94b2_11ea_83d2_74e5f93a19b5row5_col3\" class=\"data row5 col3\" >0.177531</td> \n",
       "        <td id=\"T_091deeec_94b2_11ea_83d2_74e5f93a19b5row5_col4\" class=\"data row5 col4\" >0.0132936</td> \n",
       "        <td id=\"T_091deeec_94b2_11ea_83d2_74e5f93a19b5row5_col5\" class=\"data row5 col5\" >1</td> \n",
       "        <td id=\"T_091deeec_94b2_11ea_83d2_74e5f93a19b5row5_col6\" class=\"data row5 col6\" >-0.0841891</td> \n",
       "        <td id=\"T_091deeec_94b2_11ea_83d2_74e5f93a19b5row5_col7\" class=\"data row5 col7\" >-0.00856711</td> \n",
       "        <td id=\"T_091deeec_94b2_11ea_83d2_74e5f93a19b5row5_col8\" class=\"data row5 col8\" >0.0256651</td> \n",
       "        <td id=\"T_091deeec_94b2_11ea_83d2_74e5f93a19b5row5_col9\" class=\"data row5 col9\" >0.00574722</td> \n",
       "        <td id=\"T_091deeec_94b2_11ea_83d2_74e5f93a19b5row5_col10\" class=\"data row5 col10\" >-0.0598942</td> \n",
       "        <td id=\"T_091deeec_94b2_11ea_83d2_74e5f93a19b5row5_col11\" class=\"data row5 col11\" >0.137979</td> \n",
       "        <td id=\"T_091deeec_94b2_11ea_83d2_74e5f93a19b5row5_col12\" class=\"data row5 col12\" >-0.0320193</td> \n",
       "        <td id=\"T_091deeec_94b2_11ea_83d2_74e5f93a19b5row5_col13\" class=\"data row5 col13\" >-0.0280458</td> \n",
       "    </tr>    <tr> \n",
       "        <th id=\"T_091deeec_94b2_11ea_83d2_74e5f93a19b5level0_row6\" class=\"row_heading level0 row6\" >restecg</th> \n",
       "        <td id=\"T_091deeec_94b2_11ea_83d2_74e5f93a19b5row6_col0\" class=\"data row6 col0\" >-0.116211</td> \n",
       "        <td id=\"T_091deeec_94b2_11ea_83d2_74e5f93a19b5row6_col1\" class=\"data row6 col1\" >-0.0581963</td> \n",
       "        <td id=\"T_091deeec_94b2_11ea_83d2_74e5f93a19b5row6_col2\" class=\"data row6 col2\" >0.0444206</td> \n",
       "        <td id=\"T_091deeec_94b2_11ea_83d2_74e5f93a19b5row6_col3\" class=\"data row6 col3\" >-0.114103</td> \n",
       "        <td id=\"T_091deeec_94b2_11ea_83d2_74e5f93a19b5row6_col4\" class=\"data row6 col4\" >-0.15104</td> \n",
       "        <td id=\"T_091deeec_94b2_11ea_83d2_74e5f93a19b5row6_col5\" class=\"data row6 col5\" >-0.0841891</td> \n",
       "        <td id=\"T_091deeec_94b2_11ea_83d2_74e5f93a19b5row6_col6\" class=\"data row6 col6\" >1</td> \n",
       "        <td id=\"T_091deeec_94b2_11ea_83d2_74e5f93a19b5row6_col7\" class=\"data row6 col7\" >0.0441234</td> \n",
       "        <td id=\"T_091deeec_94b2_11ea_83d2_74e5f93a19b5row6_col8\" class=\"data row6 col8\" >-0.0707329</td> \n",
       "        <td id=\"T_091deeec_94b2_11ea_83d2_74e5f93a19b5row6_col9\" class=\"data row6 col9\" >-0.0587702</td> \n",
       "        <td id=\"T_091deeec_94b2_11ea_83d2_74e5f93a19b5row6_col10\" class=\"data row6 col10\" >0.0930448</td> \n",
       "        <td id=\"T_091deeec_94b2_11ea_83d2_74e5f93a19b5row6_col11\" class=\"data row6 col11\" >-0.0720424</td> \n",
       "        <td id=\"T_091deeec_94b2_11ea_83d2_74e5f93a19b5row6_col12\" class=\"data row6 col12\" >-0.0119814</td> \n",
       "        <td id=\"T_091deeec_94b2_11ea_83d2_74e5f93a19b5row6_col13\" class=\"data row6 col13\" >0.13723</td> \n",
       "    </tr>    <tr> \n",
       "        <th id=\"T_091deeec_94b2_11ea_83d2_74e5f93a19b5level0_row7\" class=\"row_heading level0 row7\" >thalach</th> \n",
       "        <td id=\"T_091deeec_94b2_11ea_83d2_74e5f93a19b5row7_col0\" class=\"data row7 col0\" >-0.398522</td> \n",
       "        <td id=\"T_091deeec_94b2_11ea_83d2_74e5f93a19b5row7_col1\" class=\"data row7 col1\" >-0.0440199</td> \n",
       "        <td id=\"T_091deeec_94b2_11ea_83d2_74e5f93a19b5row7_col2\" class=\"data row7 col2\" >0.295762</td> \n",
       "        <td id=\"T_091deeec_94b2_11ea_83d2_74e5f93a19b5row7_col3\" class=\"data row7 col3\" >-0.0466977</td> \n",
       "        <td id=\"T_091deeec_94b2_11ea_83d2_74e5f93a19b5row7_col4\" class=\"data row7 col4\" >-0.00993984</td> \n",
       "        <td id=\"T_091deeec_94b2_11ea_83d2_74e5f93a19b5row7_col5\" class=\"data row7 col5\" >-0.00856711</td> \n",
       "        <td id=\"T_091deeec_94b2_11ea_83d2_74e5f93a19b5row7_col6\" class=\"data row7 col6\" >0.0441234</td> \n",
       "        <td id=\"T_091deeec_94b2_11ea_83d2_74e5f93a19b5row7_col7\" class=\"data row7 col7\" >1</td> \n",
       "        <td id=\"T_091deeec_94b2_11ea_83d2_74e5f93a19b5row7_col8\" class=\"data row7 col8\" >-0.378812</td> \n",
       "        <td id=\"T_091deeec_94b2_11ea_83d2_74e5f93a19b5row7_col9\" class=\"data row7 col9\" >-0.344187</td> \n",
       "        <td id=\"T_091deeec_94b2_11ea_83d2_74e5f93a19b5row7_col10\" class=\"data row7 col10\" >0.386784</td> \n",
       "        <td id=\"T_091deeec_94b2_11ea_83d2_74e5f93a19b5row7_col11\" class=\"data row7 col11\" >-0.213177</td> \n",
       "        <td id=\"T_091deeec_94b2_11ea_83d2_74e5f93a19b5row7_col12\" class=\"data row7 col12\" >-0.0964391</td> \n",
       "        <td id=\"T_091deeec_94b2_11ea_83d2_74e5f93a19b5row7_col13\" class=\"data row7 col13\" >0.421741</td> \n",
       "    </tr>    <tr> \n",
       "        <th id=\"T_091deeec_94b2_11ea_83d2_74e5f93a19b5level0_row8\" class=\"row_heading level0 row8\" >exang</th> \n",
       "        <td id=\"T_091deeec_94b2_11ea_83d2_74e5f93a19b5row8_col0\" class=\"data row8 col0\" >0.0968008</td> \n",
       "        <td id=\"T_091deeec_94b2_11ea_83d2_74e5f93a19b5row8_col1\" class=\"data row8 col1\" >0.141664</td> \n",
       "        <td id=\"T_091deeec_94b2_11ea_83d2_74e5f93a19b5row8_col2\" class=\"data row8 col2\" >-0.39428</td> \n",
       "        <td id=\"T_091deeec_94b2_11ea_83d2_74e5f93a19b5row8_col3\" class=\"data row8 col3\" >0.0676161</td> \n",
       "        <td id=\"T_091deeec_94b2_11ea_83d2_74e5f93a19b5row8_col4\" class=\"data row8 col4\" >0.0670228</td> \n",
       "        <td id=\"T_091deeec_94b2_11ea_83d2_74e5f93a19b5row8_col5\" class=\"data row8 col5\" >0.0256651</td> \n",
       "        <td id=\"T_091deeec_94b2_11ea_83d2_74e5f93a19b5row8_col6\" class=\"data row8 col6\" >-0.0707329</td> \n",
       "        <td id=\"T_091deeec_94b2_11ea_83d2_74e5f93a19b5row8_col7\" class=\"data row8 col7\" >-0.378812</td> \n",
       "        <td id=\"T_091deeec_94b2_11ea_83d2_74e5f93a19b5row8_col8\" class=\"data row8 col8\" >1</td> \n",
       "        <td id=\"T_091deeec_94b2_11ea_83d2_74e5f93a19b5row8_col9\" class=\"data row8 col9\" >0.288223</td> \n",
       "        <td id=\"T_091deeec_94b2_11ea_83d2_74e5f93a19b5row8_col10\" class=\"data row8 col10\" >-0.257748</td> \n",
       "        <td id=\"T_091deeec_94b2_11ea_83d2_74e5f93a19b5row8_col11\" class=\"data row8 col11\" >0.115739</td> \n",
       "        <td id=\"T_091deeec_94b2_11ea_83d2_74e5f93a19b5row8_col12\" class=\"data row8 col12\" >0.206754</td> \n",
       "        <td id=\"T_091deeec_94b2_11ea_83d2_74e5f93a19b5row8_col13\" class=\"data row8 col13\" >-0.436757</td> \n",
       "    </tr>    <tr> \n",
       "        <th id=\"T_091deeec_94b2_11ea_83d2_74e5f93a19b5level0_row9\" class=\"row_heading level0 row9\" >oldpeak</th> \n",
       "        <td id=\"T_091deeec_94b2_11ea_83d2_74e5f93a19b5row9_col0\" class=\"data row9 col0\" >0.210013</td> \n",
       "        <td id=\"T_091deeec_94b2_11ea_83d2_74e5f93a19b5row9_col1\" class=\"data row9 col1\" >0.0960929</td> \n",
       "        <td id=\"T_091deeec_94b2_11ea_83d2_74e5f93a19b5row9_col2\" class=\"data row9 col2\" >-0.14923</td> \n",
       "        <td id=\"T_091deeec_94b2_11ea_83d2_74e5f93a19b5row9_col3\" class=\"data row9 col3\" >0.193216</td> \n",
       "        <td id=\"T_091deeec_94b2_11ea_83d2_74e5f93a19b5row9_col4\" class=\"data row9 col4\" >0.0539519</td> \n",
       "        <td id=\"T_091deeec_94b2_11ea_83d2_74e5f93a19b5row9_col5\" class=\"data row9 col5\" >0.00574722</td> \n",
       "        <td id=\"T_091deeec_94b2_11ea_83d2_74e5f93a19b5row9_col6\" class=\"data row9 col6\" >-0.0587702</td> \n",
       "        <td id=\"T_091deeec_94b2_11ea_83d2_74e5f93a19b5row9_col7\" class=\"data row9 col7\" >-0.344187</td> \n",
       "        <td id=\"T_091deeec_94b2_11ea_83d2_74e5f93a19b5row9_col8\" class=\"data row9 col8\" >0.288223</td> \n",
       "        <td id=\"T_091deeec_94b2_11ea_83d2_74e5f93a19b5row9_col9\" class=\"data row9 col9\" >1</td> \n",
       "        <td id=\"T_091deeec_94b2_11ea_83d2_74e5f93a19b5row9_col10\" class=\"data row9 col10\" >-0.577537</td> \n",
       "        <td id=\"T_091deeec_94b2_11ea_83d2_74e5f93a19b5row9_col11\" class=\"data row9 col11\" >0.222682</td> \n",
       "        <td id=\"T_091deeec_94b2_11ea_83d2_74e5f93a19b5row9_col12\" class=\"data row9 col12\" >0.210244</td> \n",
       "        <td id=\"T_091deeec_94b2_11ea_83d2_74e5f93a19b5row9_col13\" class=\"data row9 col13\" >-0.430696</td> \n",
       "    </tr>    <tr> \n",
       "        <th id=\"T_091deeec_94b2_11ea_83d2_74e5f93a19b5level0_row10\" class=\"row_heading level0 row10\" >slope</th> \n",
       "        <td id=\"T_091deeec_94b2_11ea_83d2_74e5f93a19b5row10_col0\" class=\"data row10 col0\" >-0.168814</td> \n",
       "        <td id=\"T_091deeec_94b2_11ea_83d2_74e5f93a19b5row10_col1\" class=\"data row10 col1\" >-0.0307106</td> \n",
       "        <td id=\"T_091deeec_94b2_11ea_83d2_74e5f93a19b5row10_col2\" class=\"data row10 col2\" >0.119717</td> \n",
       "        <td id=\"T_091deeec_94b2_11ea_83d2_74e5f93a19b5row10_col3\" class=\"data row10 col3\" >-0.121475</td> \n",
       "        <td id=\"T_091deeec_94b2_11ea_83d2_74e5f93a19b5row10_col4\" class=\"data row10 col4\" >-0.00403777</td> \n",
       "        <td id=\"T_091deeec_94b2_11ea_83d2_74e5f93a19b5row10_col5\" class=\"data row10 col5\" >-0.0598942</td> \n",
       "        <td id=\"T_091deeec_94b2_11ea_83d2_74e5f93a19b5row10_col6\" class=\"data row10 col6\" >0.0930448</td> \n",
       "        <td id=\"T_091deeec_94b2_11ea_83d2_74e5f93a19b5row10_col7\" class=\"data row10 col7\" >0.386784</td> \n",
       "        <td id=\"T_091deeec_94b2_11ea_83d2_74e5f93a19b5row10_col8\" class=\"data row10 col8\" >-0.257748</td> \n",
       "        <td id=\"T_091deeec_94b2_11ea_83d2_74e5f93a19b5row10_col9\" class=\"data row10 col9\" >-0.577537</td> \n",
       "        <td id=\"T_091deeec_94b2_11ea_83d2_74e5f93a19b5row10_col10\" class=\"data row10 col10\" >1</td> \n",
       "        <td id=\"T_091deeec_94b2_11ea_83d2_74e5f93a19b5row10_col11\" class=\"data row10 col11\" >-0.0801552</td> \n",
       "        <td id=\"T_091deeec_94b2_11ea_83d2_74e5f93a19b5row10_col12\" class=\"data row10 col12\" >-0.104764</td> \n",
       "        <td id=\"T_091deeec_94b2_11ea_83d2_74e5f93a19b5row10_col13\" class=\"data row10 col13\" >0.345877</td> \n",
       "    </tr>    <tr> \n",
       "        <th id=\"T_091deeec_94b2_11ea_83d2_74e5f93a19b5level0_row11\" class=\"row_heading level0 row11\" >ca</th> \n",
       "        <td id=\"T_091deeec_94b2_11ea_83d2_74e5f93a19b5row11_col0\" class=\"data row11 col0\" >0.276326</td> \n",
       "        <td id=\"T_091deeec_94b2_11ea_83d2_74e5f93a19b5row11_col1\" class=\"data row11 col1\" >0.118261</td> \n",
       "        <td id=\"T_091deeec_94b2_11ea_83d2_74e5f93a19b5row11_col2\" class=\"data row11 col2\" >-0.181053</td> \n",
       "        <td id=\"T_091deeec_94b2_11ea_83d2_74e5f93a19b5row11_col3\" class=\"data row11 col3\" >0.101389</td> \n",
       "        <td id=\"T_091deeec_94b2_11ea_83d2_74e5f93a19b5row11_col4\" class=\"data row11 col4\" >0.0705109</td> \n",
       "        <td id=\"T_091deeec_94b2_11ea_83d2_74e5f93a19b5row11_col5\" class=\"data row11 col5\" >0.137979</td> \n",
       "        <td id=\"T_091deeec_94b2_11ea_83d2_74e5f93a19b5row11_col6\" class=\"data row11 col6\" >-0.0720424</td> \n",
       "        <td id=\"T_091deeec_94b2_11ea_83d2_74e5f93a19b5row11_col7\" class=\"data row11 col7\" >-0.213177</td> \n",
       "        <td id=\"T_091deeec_94b2_11ea_83d2_74e5f93a19b5row11_col8\" class=\"data row11 col8\" >0.115739</td> \n",
       "        <td id=\"T_091deeec_94b2_11ea_83d2_74e5f93a19b5row11_col9\" class=\"data row11 col9\" >0.222682</td> \n",
       "        <td id=\"T_091deeec_94b2_11ea_83d2_74e5f93a19b5row11_col10\" class=\"data row11 col10\" >-0.0801552</td> \n",
       "        <td id=\"T_091deeec_94b2_11ea_83d2_74e5f93a19b5row11_col11\" class=\"data row11 col11\" >1</td> \n",
       "        <td id=\"T_091deeec_94b2_11ea_83d2_74e5f93a19b5row11_col12\" class=\"data row11 col12\" >0.151832</td> \n",
       "        <td id=\"T_091deeec_94b2_11ea_83d2_74e5f93a19b5row11_col13\" class=\"data row11 col13\" >-0.391724</td> \n",
       "    </tr>    <tr> \n",
       "        <th id=\"T_091deeec_94b2_11ea_83d2_74e5f93a19b5level0_row12\" class=\"row_heading level0 row12\" >thal</th> \n",
       "        <td id=\"T_091deeec_94b2_11ea_83d2_74e5f93a19b5row12_col0\" class=\"data row12 col0\" >0.0680014</td> \n",
       "        <td id=\"T_091deeec_94b2_11ea_83d2_74e5f93a19b5row12_col1\" class=\"data row12 col1\" >0.210041</td> \n",
       "        <td id=\"T_091deeec_94b2_11ea_83d2_74e5f93a19b5row12_col2\" class=\"data row12 col2\" >-0.161736</td> \n",
       "        <td id=\"T_091deeec_94b2_11ea_83d2_74e5f93a19b5row12_col3\" class=\"data row12 col3\" >0.0622099</td> \n",
       "        <td id=\"T_091deeec_94b2_11ea_83d2_74e5f93a19b5row12_col4\" class=\"data row12 col4\" >0.098803</td> \n",
       "        <td id=\"T_091deeec_94b2_11ea_83d2_74e5f93a19b5row12_col5\" class=\"data row12 col5\" >-0.0320193</td> \n",
       "        <td id=\"T_091deeec_94b2_11ea_83d2_74e5f93a19b5row12_col6\" class=\"data row12 col6\" >-0.0119814</td> \n",
       "        <td id=\"T_091deeec_94b2_11ea_83d2_74e5f93a19b5row12_col7\" class=\"data row12 col7\" >-0.0964391</td> \n",
       "        <td id=\"T_091deeec_94b2_11ea_83d2_74e5f93a19b5row12_col8\" class=\"data row12 col8\" >0.206754</td> \n",
       "        <td id=\"T_091deeec_94b2_11ea_83d2_74e5f93a19b5row12_col9\" class=\"data row12 col9\" >0.210244</td> \n",
       "        <td id=\"T_091deeec_94b2_11ea_83d2_74e5f93a19b5row12_col10\" class=\"data row12 col10\" >-0.104764</td> \n",
       "        <td id=\"T_091deeec_94b2_11ea_83d2_74e5f93a19b5row12_col11\" class=\"data row12 col11\" >0.151832</td> \n",
       "        <td id=\"T_091deeec_94b2_11ea_83d2_74e5f93a19b5row12_col12\" class=\"data row12 col12\" >1</td> \n",
       "        <td id=\"T_091deeec_94b2_11ea_83d2_74e5f93a19b5row12_col13\" class=\"data row12 col13\" >-0.344029</td> \n",
       "    </tr>    <tr> \n",
       "        <th id=\"T_091deeec_94b2_11ea_83d2_74e5f93a19b5level0_row13\" class=\"row_heading level0 row13\" >target</th> \n",
       "        <td id=\"T_091deeec_94b2_11ea_83d2_74e5f93a19b5row13_col0\" class=\"data row13 col0\" >-0.225439</td> \n",
       "        <td id=\"T_091deeec_94b2_11ea_83d2_74e5f93a19b5row13_col1\" class=\"data row13 col1\" >-0.280937</td> \n",
       "        <td id=\"T_091deeec_94b2_11ea_83d2_74e5f93a19b5row13_col2\" class=\"data row13 col2\" >0.433798</td> \n",
       "        <td id=\"T_091deeec_94b2_11ea_83d2_74e5f93a19b5row13_col3\" class=\"data row13 col3\" >-0.144931</td> \n",
       "        <td id=\"T_091deeec_94b2_11ea_83d2_74e5f93a19b5row13_col4\" class=\"data row13 col4\" >-0.0852391</td> \n",
       "        <td id=\"T_091deeec_94b2_11ea_83d2_74e5f93a19b5row13_col5\" class=\"data row13 col5\" >-0.0280458</td> \n",
       "        <td id=\"T_091deeec_94b2_11ea_83d2_74e5f93a19b5row13_col6\" class=\"data row13 col6\" >0.13723</td> \n",
       "        <td id=\"T_091deeec_94b2_11ea_83d2_74e5f93a19b5row13_col7\" class=\"data row13 col7\" >0.421741</td> \n",
       "        <td id=\"T_091deeec_94b2_11ea_83d2_74e5f93a19b5row13_col8\" class=\"data row13 col8\" >-0.436757</td> \n",
       "        <td id=\"T_091deeec_94b2_11ea_83d2_74e5f93a19b5row13_col9\" class=\"data row13 col9\" >-0.430696</td> \n",
       "        <td id=\"T_091deeec_94b2_11ea_83d2_74e5f93a19b5row13_col10\" class=\"data row13 col10\" >0.345877</td> \n",
       "        <td id=\"T_091deeec_94b2_11ea_83d2_74e5f93a19b5row13_col11\" class=\"data row13 col11\" >-0.391724</td> \n",
       "        <td id=\"T_091deeec_94b2_11ea_83d2_74e5f93a19b5row13_col12\" class=\"data row13 col12\" >-0.344029</td> \n",
       "        <td id=\"T_091deeec_94b2_11ea_83d2_74e5f93a19b5row13_col13\" class=\"data row13 col13\" >1</td> \n",
       "    </tr></tbody> \n",
       "</table> "
      ],
      "text/plain": [
       "<pandas.io.formats.style.Styler at 0x215e6eba588>"
      ]
     },
     "execution_count": 229,
     "metadata": {},
     "output_type": "execute_result"
    }
   ],
   "source": [
    "heart.corr().style.background_gradient(cmap = 'coolwarm')"
   ]
  },
  {
   "cell_type": "markdown",
   "metadata": {},
   "source": [
    "    The target variable has a correlation (higher as compared to the other features) with chest pain, maximum heart rate achieved (thalach) and slope\n",
    "    "
   ]
  },
  {
   "cell_type": "code",
   "execution_count": 276,
   "metadata": {},
   "outputs": [],
   "source": [
    "corr_matrix = heart.corr()"
   ]
  },
  {
   "cell_type": "code",
   "execution_count": 230,
   "metadata": {},
   "outputs": [
    {
     "data": {
      "text/plain": [
       "target      1.000000\n",
       "cp          0.433798\n",
       "thalach     0.421741\n",
       "slope       0.345877\n",
       "restecg     0.137230\n",
       "fbs        -0.028046\n",
       "chol       -0.085239\n",
       "trestbps   -0.144931\n",
       "age        -0.225439\n",
       "sex        -0.280937\n",
       "thal       -0.344029\n",
       "ca         -0.391724\n",
       "oldpeak    -0.430696\n",
       "exang      -0.436757\n",
       "Name: target, dtype: float64"
      ]
     },
     "execution_count": 230,
     "metadata": {},
     "output_type": "execute_result"
    }
   ],
   "source": [
    "corr_matrix['target'].sort_values(ascending = False)"
   ]
  },
  {
   "cell_type": "code",
   "execution_count": 242,
   "metadata": {
    "scrolled": true
   },
   "outputs": [
    {
     "data": {
      "image/png": "[encoded data removed]",
      "text/plain": [
       "<Figure size 432x288 with 1 Axes>"
      ]
     },
     "metadata": {
      "needs_background": "light"
     },
     "output_type": "display_data"
    },
    {
     "data": {
      "image/png": "[encoded data removed]",
      "text/plain": [
       "<Figure size 432x288 with 1 Axes>"
      ]
     },
     "metadata": {
      "needs_background": "light"
     },
     "output_type": "display_data"
    }
   ],
   "source": [
    "corr = ['trestbps', 'chol']\n",
    "for att in corr:\n",
    "    plt.scatter(heart.age, heart[att])\n",
    "    plt.title('age vs {}'.format(att))\n",
    "    plt.xlabel('age')\n",
    "    plt.ylabel(att)\n",
    "    plt.show()"
   ]
  },
  {
   "cell_type": "markdown",
   "metadata": {},
   "source": [
    "    age and (trestbps and chol) have a weak correlation, but it is the highest correlation any attribute has with age "
   ]
  },
  {
   "cell_type": "code",
   "execution_count": 252,
   "metadata": {},
   "outputs": [
    {
     "data": {
      "image/png": "[encoded data removed]",
      "text/plain": [
       "<Figure size 720x432 with 1 Axes>"
      ]
     },
     "metadata": {
      "needs_background": "light"
     },
     "output_type": "display_data"
    }
   ],
   "source": [
    "plt.figure(figsize = (10,6))\n",
    "heart.boxplot()\n",
    "plt.xticks(rotation = 45, size = 15)\n",
    "plt.show()"
   ]
  },
  {
   "cell_type": "markdown",
   "metadata": {},
   "source": [
    "    Most columns have 1's or 0's as there entries.\n",
    "    trestbps (that is resting blood pressure) has many outliers and so does chol (that is cholestrol)"
   ]
  },
  {
   "cell_type": "code",
   "execution_count": 6,
   "metadata": {
    "scrolled": false
   },
   "outputs": [
    {
     "name": "stdout",
     "output_type": "stream",
     "text": [
      "<class 'pandas.core.frame.DataFrame'>\n",
      "RangeIndex: 303 entries, 0 to 302\n",
      "Data columns (total 14 columns):\n",
      "age         303 non-null int64\n",
      "sex         303 non-null int64\n",
      "cp          303 non-null int64\n",
      "trestbps    303 non-null int64\n",
      "chol        303 non-null int64\n",
      "fbs         303 non-null int64\n",
      "restecg     303 non-null int64\n",
      "thalach     303 non-null int64\n",
      "exang       303 non-null int64\n",
      "oldpeak     303 non-null float64\n",
      "slope       303 non-null int64\n",
      "ca          303 non-null int64\n",
      "thal        303 non-null int64\n",
      "target      303 non-null int64\n",
      "dtypes: float64(1), int64(13)\n",
      "memory usage: 33.2 KB\n"
     ]
    }
   ],
   "source": [
    "heart.info()"
   ]
  },
  {
   "cell_type": "markdown",
   "metadata": {},
   "source": [
    "#### OBSERVATIONS :"
   ]
  },
  {
   "cell_type": "markdown",
   "metadata": {},
   "source": [
    "    1. The dataset has 303 entries and 14 columns\n",
    "    2. All the variables are numberical\n",
    "    3. The dataset does not have any null values"
   ]
  },
  {
   "cell_type": "markdown",
   "metadata": {},
   "source": [
    "## Transforming the dataset"
   ]
  },
  {
   "cell_type": "code",
   "execution_count": 8,
   "metadata": {},
   "outputs": [
    {
     "data": {
      "text/plain": [
       "array([3, 2, 1, 0], dtype=int64)"
      ]
     },
     "execution_count": 8,
     "metadata": {},
     "output_type": "execute_result"
    }
   ],
   "source": [
    "heart.cp.unique()"
   ]
  },
  {
   "cell_type": "code",
   "execution_count": 10,
   "metadata": {},
   "outputs": [
    {
     "data": {
      "text/plain": [
       "array([1, 2, 3, 0], dtype=int64)"
      ]
     },
     "execution_count": 10,
     "metadata": {},
     "output_type": "execute_result"
    }
   ],
   "source": [
    "heart.thal.unique()"
   ]
  },
  {
   "cell_type": "code",
   "execution_count": 12,
   "metadata": {},
   "outputs": [
    {
     "data": {
      "text/plain": [
       "array([0, 2, 1], dtype=int64)"
      ]
     },
     "execution_count": 12,
     "metadata": {},
     "output_type": "execute_result"
    }
   ],
   "source": [
    "heart.slope.unique()"
   ]
  },
  {
   "cell_type": "markdown",
   "metadata": {},
   "source": [
    "####    One hot encoding using dummy variables"
   ]
  },
  {
   "cell_type": "code",
   "execution_count": 21,
   "metadata": {},
   "outputs": [],
   "source": [
    "cp_dummies = pd.get_dummies(heart['cp'], prefix = \"cp_type\")\n",
    "thal_dummies = pd.get_dummies(heart['thal'], prefix = \"thal_type\")\n",
    "slope_dummies = pd.get_dummies(heart['slope'], prefix = \"slope_type\")"
   ]
  },
  {
   "cell_type": "code",
   "execution_count": 25,
   "metadata": {},
   "outputs": [],
   "source": [
    "heart_new = pd.concat([heart, cp_dummies, thal_dummies, slope_dummies], axis =1).drop(columns = ['cp', 'thal', 'slope'], axis = 1)"
   ]
  },
  {
   "cell_type": "code",
   "execution_count": 30,
   "metadata": {},
   "outputs": [
    {
     "data": {
      "text/plain": [
       "22"
      ]
     },
     "execution_count": 30,
     "metadata": {},
     "output_type": "execute_result"
    }
   ],
   "source": [
    "len(list(heart_new))"
   ]
  },
  {
   "cell_type": "code",
   "execution_count": 29,
   "metadata": {},
   "outputs": [
    {
     "data": {
      "text/plain": [
       "14"
      ]
     },
     "execution_count": 29,
     "metadata": {},
     "output_type": "execute_result"
    }
   ],
   "source": [
    "len(list(heart))"
   ]
  },
  {
   "cell_type": "code",
   "execution_count": 40,
   "metadata": {},
   "outputs": [],
   "source": [
    "dependent = heart_new.target\n",
    "independent = heart_new.drop(['target'], axis = 1)"
   ]
  },
  {
   "cell_type": "markdown",
   "metadata": {},
   "source": [
    "#### Normalizing the data"
   ]
  },
  {
   "cell_type": "code",
   "execution_count": 41,
   "metadata": {},
   "outputs": [],
   "source": [
    "ind_normalized = (independent - np.min(independent)) / (np.max(independent) - np.min(independent)).values"
   ]
  },
  {
   "cell_type": "code",
   "execution_count": 42,
   "metadata": {},
   "outputs": [
    {
     "data": {
      "text/html": [
       "<div>\n",
       "<style scoped>\n",
       "    .dataframe tbody tr th:only-of-type {\n",
       "        vertical-align: middle;\n",
       "    }\n",
       "\n",
       "    .dataframe tbody tr th {\n",
       "        vertical-align: top;\n",
       "    }\n",
       "\n",
       "    .dataframe thead th {\n",
       "        text-align: right;\n",
       "    }\n",
       "</style>\n",
       "<table border=\"1\" class=\"dataframe\">\n",
       "  <thead>\n",
       "    <tr style=\"text-align: right;\">\n",
       "      <th></th>\n",
       "      <th>age</th>\n",
       "      <th>sex</th>\n",
       "      <th>trestbps</th>\n",
       "      <th>chol</th>\n",
       "      <th>fbs</th>\n",
       "      <th>restecg</th>\n",
       "      <th>thalach</th>\n",
       "      <th>exang</th>\n",
       "      <th>oldpeak</th>\n",
       "      <th>ca</th>\n",
       "      <th>...</th>\n",
       "      <th>cp_type_1</th>\n",
       "      <th>cp_type_2</th>\n",
       "      <th>cp_type_3</th>\n",
       "      <th>thal_type_0</th>\n",
       "      <th>thal_type_1</th>\n",
       "      <th>thal_type_2</th>\n",
       "      <th>thal_type_3</th>\n",
       "      <th>slope_type_0</th>\n",
       "      <th>slope_type_1</th>\n",
       "      <th>slope_type_2</th>\n",
       "    </tr>\n",
       "  </thead>\n",
       "  <tbody>\n",
       "    <tr>\n",
       "      <th>0</th>\n",
       "      <td>0.708333</td>\n",
       "      <td>1.0</td>\n",
       "      <td>0.481132</td>\n",
       "      <td>0.244292</td>\n",
       "      <td>1.0</td>\n",
       "      <td>0.0</td>\n",
       "      <td>0.603053</td>\n",
       "      <td>0.0</td>\n",
       "      <td>0.370968</td>\n",
       "      <td>0.0</td>\n",
       "      <td>...</td>\n",
       "      <td>0.0</td>\n",
       "      <td>0.0</td>\n",
       "      <td>1.0</td>\n",
       "      <td>0.0</td>\n",
       "      <td>1.0</td>\n",
       "      <td>0.0</td>\n",
       "      <td>0.0</td>\n",
       "      <td>1.0</td>\n",
       "      <td>0.0</td>\n",
       "      <td>0.0</td>\n",
       "    </tr>\n",
       "    <tr>\n",
       "      <th>1</th>\n",
       "      <td>0.166667</td>\n",
       "      <td>1.0</td>\n",
       "      <td>0.339623</td>\n",
       "      <td>0.283105</td>\n",
       "      <td>0.0</td>\n",
       "      <td>0.5</td>\n",
       "      <td>0.885496</td>\n",
       "      <td>0.0</td>\n",
       "      <td>0.564516</td>\n",
       "      <td>0.0</td>\n",
       "      <td>...</td>\n",
       "      <td>0.0</td>\n",
       "      <td>1.0</td>\n",
       "      <td>0.0</td>\n",
       "      <td>0.0</td>\n",
       "      <td>0.0</td>\n",
       "      <td>1.0</td>\n",
       "      <td>0.0</td>\n",
       "      <td>1.0</td>\n",
       "      <td>0.0</td>\n",
       "      <td>0.0</td>\n",
       "    </tr>\n",
       "    <tr>\n",
       "      <th>2</th>\n",
       "      <td>0.250000</td>\n",
       "      <td>0.0</td>\n",
       "      <td>0.339623</td>\n",
       "      <td>0.178082</td>\n",
       "      <td>0.0</td>\n",
       "      <td>0.0</td>\n",
       "      <td>0.770992</td>\n",
       "      <td>0.0</td>\n",
       "      <td>0.225806</td>\n",
       "      <td>0.0</td>\n",
       "      <td>...</td>\n",
       "      <td>1.0</td>\n",
       "      <td>0.0</td>\n",
       "      <td>0.0</td>\n",
       "      <td>0.0</td>\n",
       "      <td>0.0</td>\n",
       "      <td>1.0</td>\n",
       "      <td>0.0</td>\n",
       "      <td>0.0</td>\n",
       "      <td>0.0</td>\n",
       "      <td>1.0</td>\n",
       "    </tr>\n",
       "    <tr>\n",
       "      <th>3</th>\n",
       "      <td>0.562500</td>\n",
       "      <td>1.0</td>\n",
       "      <td>0.245283</td>\n",
       "      <td>0.251142</td>\n",
       "      <td>0.0</td>\n",
       "      <td>0.5</td>\n",
       "      <td>0.816794</td>\n",
       "      <td>0.0</td>\n",
       "      <td>0.129032</td>\n",
       "      <td>0.0</td>\n",
       "      <td>...</td>\n",
       "      <td>1.0</td>\n",
       "      <td>0.0</td>\n",
       "      <td>0.0</td>\n",
       "      <td>0.0</td>\n",
       "      <td>0.0</td>\n",
       "      <td>1.0</td>\n",
       "      <td>0.0</td>\n",
       "      <td>0.0</td>\n",
       "      <td>0.0</td>\n",
       "      <td>1.0</td>\n",
       "    </tr>\n",
       "    <tr>\n",
       "      <th>4</th>\n",
       "      <td>0.583333</td>\n",
       "      <td>0.0</td>\n",
       "      <td>0.245283</td>\n",
       "      <td>0.520548</td>\n",
       "      <td>0.0</td>\n",
       "      <td>0.5</td>\n",
       "      <td>0.702290</td>\n",
       "      <td>1.0</td>\n",
       "      <td>0.096774</td>\n",
       "      <td>0.0</td>\n",
       "      <td>...</td>\n",
       "      <td>0.0</td>\n",
       "      <td>0.0</td>\n",
       "      <td>0.0</td>\n",
       "      <td>0.0</td>\n",
       "      <td>0.0</td>\n",
       "      <td>1.0</td>\n",
       "      <td>0.0</td>\n",
       "      <td>0.0</td>\n",
       "      <td>0.0</td>\n",
       "      <td>1.0</td>\n",
       "    </tr>\n",
       "  </tbody>\n",
       "</table>\n",
       "<p>5 rows × 21 columns</p>\n",
       "</div>"
      ],
      "text/plain": [
       "        age  sex  trestbps      chol  fbs  restecg   thalach  exang   oldpeak  \\\n",
       "0  0.708333  1.0  0.481132  0.244292  1.0      0.0  0.603053    0.0  0.370968   \n",
       "1  0.166667  1.0  0.339623  0.283105  0.0      0.5  0.885496    0.0  0.564516   \n",
       "2  0.250000  0.0  0.339623  0.178082  0.0      0.0  0.770992    0.0  0.225806   \n",
       "3  0.562500  1.0  0.245283  0.251142  0.0      0.5  0.816794    0.0  0.129032   \n",
       "4  0.583333  0.0  0.245283  0.520548  0.0      0.5  0.702290    1.0  0.096774   \n",
       "\n",
       "    ca      ...       cp_type_1  cp_type_2  cp_type_3  thal_type_0  \\\n",
       "0  0.0      ...             0.0        0.0        1.0          0.0   \n",
       "1  0.0      ...             0.0        1.0        0.0          0.0   \n",
       "2  0.0      ...             1.0        0.0        0.0          0.0   \n",
       "3  0.0      ...             1.0        0.0        0.0          0.0   \n",
       "4  0.0      ...             0.0        0.0        0.0          0.0   \n",
       "\n",
       "   thal_type_1  thal_type_2  thal_type_3  slope_type_0  slope_type_1  \\\n",
       "0          1.0          0.0          0.0           1.0           0.0   \n",
       "1          0.0          1.0          0.0           1.0           0.0   \n",
       "2          0.0          1.0          0.0           0.0           0.0   \n",
       "3          0.0          1.0          0.0           0.0           0.0   \n",
       "4          0.0          1.0          0.0           0.0           0.0   \n",
       "\n",
       "   slope_type_2  \n",
       "0           0.0  \n",
       "1           0.0  \n",
       "2           1.0  \n",
       "3           1.0  \n",
       "4           1.0  \n",
       "\n",
       "[5 rows x 21 columns]"
      ]
     },
     "execution_count": 42,
     "metadata": {},
     "output_type": "execute_result"
    }
   ],
   "source": [
    "ind_normalized.head()"
   ]
  },
  {
   "cell_type": "code",
   "execution_count": 43,
   "metadata": {},
   "outputs": [
    {
     "data": {
      "text/html": [
       "<div>\n",
       "<style scoped>\n",
       "    .dataframe tbody tr th:only-of-type {\n",
       "        vertical-align: middle;\n",
       "    }\n",
       "\n",
       "    .dataframe tbody tr th {\n",
       "        vertical-align: top;\n",
       "    }\n",
       "\n",
       "    .dataframe thead th {\n",
       "        text-align: right;\n",
       "    }\n",
       "</style>\n",
       "<table border=\"1\" class=\"dataframe\">\n",
       "  <thead>\n",
       "    <tr style=\"text-align: right;\">\n",
       "      <th></th>\n",
       "      <th>age</th>\n",
       "      <th>sex</th>\n",
       "      <th>trestbps</th>\n",
       "      <th>chol</th>\n",
       "      <th>fbs</th>\n",
       "      <th>restecg</th>\n",
       "      <th>thalach</th>\n",
       "      <th>exang</th>\n",
       "      <th>oldpeak</th>\n",
       "      <th>ca</th>\n",
       "      <th>...</th>\n",
       "      <th>cp_type_1</th>\n",
       "      <th>cp_type_2</th>\n",
       "      <th>cp_type_3</th>\n",
       "      <th>thal_type_0</th>\n",
       "      <th>thal_type_1</th>\n",
       "      <th>thal_type_2</th>\n",
       "      <th>thal_type_3</th>\n",
       "      <th>slope_type_0</th>\n",
       "      <th>slope_type_1</th>\n",
       "      <th>slope_type_2</th>\n",
       "    </tr>\n",
       "  </thead>\n",
       "  <tbody>\n",
       "    <tr>\n",
       "      <th>0</th>\n",
       "      <td>63</td>\n",
       "      <td>1</td>\n",
       "      <td>145</td>\n",
       "      <td>233</td>\n",
       "      <td>1</td>\n",
       "      <td>0</td>\n",
       "      <td>150</td>\n",
       "      <td>0</td>\n",
       "      <td>2.3</td>\n",
       "      <td>0</td>\n",
       "      <td>...</td>\n",
       "      <td>0</td>\n",
       "      <td>0</td>\n",
       "      <td>1</td>\n",
       "      <td>0</td>\n",
       "      <td>1</td>\n",
       "      <td>0</td>\n",
       "      <td>0</td>\n",
       "      <td>1</td>\n",
       "      <td>0</td>\n",
       "      <td>0</td>\n",
       "    </tr>\n",
       "    <tr>\n",
       "      <th>1</th>\n",
       "      <td>37</td>\n",
       "      <td>1</td>\n",
       "      <td>130</td>\n",
       "      <td>250</td>\n",
       "      <td>0</td>\n",
       "      <td>1</td>\n",
       "      <td>187</td>\n",
       "      <td>0</td>\n",
       "      <td>3.5</td>\n",
       "      <td>0</td>\n",
       "      <td>...</td>\n",
       "      <td>0</td>\n",
       "      <td>1</td>\n",
       "      <td>0</td>\n",
       "      <td>0</td>\n",
       "      <td>0</td>\n",
       "      <td>1</td>\n",
       "      <td>0</td>\n",
       "      <td>1</td>\n",
       "      <td>0</td>\n",
       "      <td>0</td>\n",
       "    </tr>\n",
       "    <tr>\n",
       "      <th>2</th>\n",
       "      <td>41</td>\n",
       "      <td>0</td>\n",
       "      <td>130</td>\n",
       "      <td>204</td>\n",
       "      <td>0</td>\n",
       "      <td>0</td>\n",
       "      <td>172</td>\n",
       "      <td>0</td>\n",
       "      <td>1.4</td>\n",
       "      <td>0</td>\n",
       "      <td>...</td>\n",
       "      <td>1</td>\n",
       "      <td>0</td>\n",
       "      <td>0</td>\n",
       "      <td>0</td>\n",
       "      <td>0</td>\n",
       "      <td>1</td>\n",
       "      <td>0</td>\n",
       "      <td>0</td>\n",
       "      <td>0</td>\n",
       "      <td>1</td>\n",
       "    </tr>\n",
       "    <tr>\n",
       "      <th>3</th>\n",
       "      <td>56</td>\n",
       "      <td>1</td>\n",
       "      <td>120</td>\n",
       "      <td>236</td>\n",
       "      <td>0</td>\n",
       "      <td>1</td>\n",
       "      <td>178</td>\n",
       "      <td>0</td>\n",
       "      <td>0.8</td>\n",
       "      <td>0</td>\n",
       "      <td>...</td>\n",
       "      <td>1</td>\n",
       "      <td>0</td>\n",
       "      <td>0</td>\n",
       "      <td>0</td>\n",
       "      <td>0</td>\n",
       "      <td>1</td>\n",
       "      <td>0</td>\n",
       "      <td>0</td>\n",
       "      <td>0</td>\n",
       "      <td>1</td>\n",
       "    </tr>\n",
       "    <tr>\n",
       "      <th>4</th>\n",
       "      <td>57</td>\n",
       "      <td>0</td>\n",
       "      <td>120</td>\n",
       "      <td>354</td>\n",
       "      <td>0</td>\n",
       "      <td>1</td>\n",
       "      <td>163</td>\n",
       "      <td>1</td>\n",
       "      <td>0.6</td>\n",
       "      <td>0</td>\n",
       "      <td>...</td>\n",
       "      <td>0</td>\n",
       "      <td>0</td>\n",
       "      <td>0</td>\n",
       "      <td>0</td>\n",
       "      <td>0</td>\n",
       "      <td>1</td>\n",
       "      <td>0</td>\n",
       "      <td>0</td>\n",
       "      <td>0</td>\n",
       "      <td>1</td>\n",
       "    </tr>\n",
       "  </tbody>\n",
       "</table>\n",
       "<p>5 rows × 21 columns</p>\n",
       "</div>"
      ],
      "text/plain": [
       "   age  sex  trestbps  chol  fbs  restecg  thalach  exang  oldpeak  ca  \\\n",
       "0   63    1       145   233    1        0      150      0      2.3   0   \n",
       "1   37    1       130   250    0        1      187      0      3.5   0   \n",
       "2   41    0       130   204    0        0      172      0      1.4   0   \n",
       "3   56    1       120   236    0        1      178      0      0.8   0   \n",
       "4   57    0       120   354    0        1      163      1      0.6   0   \n",
       "\n",
       "       ...       cp_type_1  cp_type_2  cp_type_3  thal_type_0  thal_type_1  \\\n",
       "0      ...               0          0          1            0            1   \n",
       "1      ...               0          1          0            0            0   \n",
       "2      ...               1          0          0            0            0   \n",
       "3      ...               1          0          0            0            0   \n",
       "4      ...               0          0          0            0            0   \n",
       "\n",
       "   thal_type_2  thal_type_3  slope_type_0  slope_type_1  slope_type_2  \n",
       "0            0            0             1             0             0  \n",
       "1            1            0             1             0             0  \n",
       "2            1            0             0             0             1  \n",
       "3            1            0             0             0             1  \n",
       "4            1            0             0             0             1  \n",
       "\n",
       "[5 rows x 21 columns]"
      ]
     },
     "execution_count": 43,
     "metadata": {},
     "output_type": "execute_result"
    }
   ],
   "source": [
    "independent.head()"
   ]
  },
  {
   "cell_type": "markdown",
   "metadata": {},
   "source": [
    "### Splitting the dataset into training and testing sets "
   ]
  },
  {
   "cell_type": "code",
   "execution_count": 60,
   "metadata": {},
   "outputs": [],
   "source": [
    "from sklearn.model_selection import train_test_split\n",
    "X_train, X_test, Y_train, Y_test = train_test_split(ind_normalized, dependent, test_size = 0.2, shuffle = True)"
   ]
  },
  {
   "cell_type": "markdown",
   "metadata": {},
   "source": [
    "#### Making a dictionary to store model accuracy scores"
   ]
  },
  {
   "cell_type": "code",
   "execution_count": 330,
   "metadata": {},
   "outputs": [],
   "source": [
    "accuracies = {}"
   ]
  },
  {
   "cell_type": "markdown",
   "metadata": {},
   "source": [
    "## Logistic Regression"
   ]
  },
  {
   "cell_type": "code",
   "execution_count": 337,
   "metadata": {},
   "outputs": [],
   "source": [
    "from sklearn.linear_model import LogisticRegression"
   ]
  },
  {
   "cell_type": "code",
   "execution_count": 338,
   "metadata": {},
   "outputs": [
    {
     "name": "stdout",
     "output_type": "stream",
     "text": [
      "train score: 0.8553719008264463\n",
      "test score: 0.8360655737704918\n"
     ]
    },
    {
     "name": "stderr",
     "output_type": "stream",
     "text": [
      "C:\\Users\\dell\\anaconda\\lib\\site-packages\\sklearn\\linear_model\\logistic.py:433: FutureWarning: Default solver will be changed to 'lbfgs' in 0.22. Specify a solver to silence this warning.\n",
      "  FutureWarning)\n"
     ]
    }
   ],
   "source": [
    "log_reg = LogisticRegression()\n",
    "log_reg.fit(X_train, Y_train)\n",
    "print(\"train score:\", log_reg.score(X_train, Y_train))\n",
    "print(\"test score:\", log_reg.score(X_test, Y_test))"
   ]
  },
  {
   "cell_type": "markdown",
   "metadata": {},
   "source": [
    "    The train and test scores do not have an extreme difference, which means that the model is not overfitting a lot on the training data"
   ]
  },
  {
   "cell_type": "code",
   "execution_count": 339,
   "metadata": {},
   "outputs": [],
   "source": [
    "accuracies['Logistic Regression'] = round(log_reg.score(X_test, Y_test), 2)"
   ]
  },
  {
   "cell_type": "markdown",
   "metadata": {},
   "source": [
    "##  K-Nearest Neighbors"
   ]
  },
  {
   "cell_type": "code",
   "execution_count": 343,
   "metadata": {},
   "outputs": [],
   "source": [
    "from sklearn.neighbors import KNeighborsClassifier"
   ]
  },
  {
   "cell_type": "code",
   "execution_count": 344,
   "metadata": {},
   "outputs": [
    {
     "name": "stdout",
     "output_type": "stream",
     "text": [
      "train score: 0.8925619834710744\n",
      "test score: 0.8688524590163934\n"
     ]
    }
   ],
   "source": [
    "knn = KNeighborsClassifier(n_neighbors = 2)\n",
    "knn.fit(X_train, Y_train)\n",
    "print(\"train score:\", knn.score(X_train, Y_train))\n",
    "print(\"test score:\", knn.score(X_test, Y_test))"
   ]
  },
  {
   "cell_type": "markdown",
   "metadata": {},
   "source": [
    "    The train and test scores has difference but it is not extreme, which means that the model is not overfitting too much"
   ]
  },
  {
   "cell_type": "code",
   "execution_count": 345,
   "metadata": {},
   "outputs": [],
   "source": [
    "accuracies['K-Nearest Neighbors'] = round(knn.score(X_test, Y_test),2)"
   ]
  },
  {
   "cell_type": "markdown",
   "metadata": {},
   "source": [
    "##  Naive Bayes"
   ]
  },
  {
   "cell_type": "code",
   "execution_count": 346,
   "metadata": {},
   "outputs": [],
   "source": [
    "from sklearn.naive_bayes import GaussianNB"
   ]
  },
  {
   "cell_type": "code",
   "execution_count": 347,
   "metadata": {
    "scrolled": false
   },
   "outputs": [
    {
     "name": "stdout",
     "output_type": "stream",
     "text": [
      "train score: 0.8471074380165289\n",
      "test score: 0.8852459016393442\n"
     ]
    }
   ],
   "source": [
    "gnb = GaussianNB()\n",
    "gnb.fit(X_train, Y_train)\n",
    "print(\"train score:\", gnb.score(X_train, Y_train))\n",
    "print(\"test score:\", gnb.score(X_test, Y_test))"
   ]
  },
  {
   "cell_type": "markdown",
   "metadata": {},
   "source": [
    "    The test scores are slightly higher than the train scores which means the model is working well on unseen data "
   ]
  },
  {
   "cell_type": "code",
   "execution_count": 348,
   "metadata": {},
   "outputs": [],
   "source": [
    "accuracies['Gaussian NB'] = round(gnb.score(X_test, Y_test),2)"
   ]
  },
  {
   "cell_type": "markdown",
   "metadata": {},
   "source": [
    "##  Support Vector Classifiers"
   ]
  },
  {
   "cell_type": "code",
   "execution_count": 349,
   "metadata": {},
   "outputs": [],
   "source": [
    "from sklearn.svm import SVC"
   ]
  },
  {
   "cell_type": "code",
   "execution_count": 350,
   "metadata": {
    "scrolled": true
   },
   "outputs": [
    {
     "name": "stdout",
     "output_type": "stream",
     "text": [
      "train score: 0.8677685950413223\n",
      "test score: 0.8524590163934426\n"
     ]
    },
    {
     "name": "stderr",
     "output_type": "stream",
     "text": [
      "C:\\Users\\dell\\anaconda\\lib\\site-packages\\sklearn\\svm\\base.py:196: FutureWarning: The default value of gamma will change from 'auto' to 'scale' in version 0.22 to account better for unscaled features. Set gamma explicitly to 'auto' or 'scale' to avoid this warning.\n",
      "  \"avoid this warning.\", FutureWarning)\n"
     ]
    }
   ],
   "source": [
    "svc = SVC()\n",
    "svc.fit(X_train, Y_train)\n",
    "print(\"train score:\", svc.score(X_train, Y_train))\n",
    "print(\"test score:\", svc.score(X_test, Y_test))"
   ]
  },
  {
   "cell_type": "markdown",
   "metadata": {},
   "source": [
    "    The training score is greater than the test score but they do not have an extreme difference, which means that the model is not overfitting"
   ]
  },
  {
   "cell_type": "code",
   "execution_count": 351,
   "metadata": {},
   "outputs": [],
   "source": [
    "accuracies['Support Vector Machine'] = round(svc.score(X_test, Y_test),2)"
   ]
  },
  {
   "cell_type": "markdown",
   "metadata": {},
   "source": [
    "## Decision Trees"
   ]
  },
  {
   "cell_type": "code",
   "execution_count": 352,
   "metadata": {},
   "outputs": [],
   "source": [
    "from sklearn.tree import DecisionTreeClassifier"
   ]
  },
  {
   "cell_type": "code",
   "execution_count": 353,
   "metadata": {
    "scrolled": false
   },
   "outputs": [
    {
     "name": "stdout",
     "output_type": "stream",
     "text": [
      "train score: 1.0\n",
      "test score: 0.7213114754098361\n"
     ]
    }
   ],
   "source": [
    "dec_tree = DecisionTreeClassifier()\n",
    "dec_tree.fit(X_train, Y_train)\n",
    "print(\"train score:\", dec_tree.score(X_train, Y_train))\n",
    "print(\"test score:\", dec_tree.score(X_test, Y_test))"
   ]
  },
  {
   "cell_type": "markdown",
   "metadata": {},
   "source": [
    "    The training score is perfect while the testing score is much lesser, this is a classic example of model overfitting.\n",
    "    Decision trees face overfitting because the model tends to build a tree that perfectly classifies the training set, this       can be avoided by :\n",
    "    1. Pre-pruning : stopping the growth of the decision tree before it classifies data perfectly (can be done by setting           max_depth to some number)\n",
    "    2. Post-pruning : letting the tree grow to perfection and then reducing it by evaluating the significance of each feature\n",
    "    3. Bagging : taking an average of all predictions from different decision trees, in this case decision trees are independent of each other\n",
    "    4. Boosting : training multiple weak learners sequentially, each new tree correcting the previous one"
   ]
  },
  {
   "cell_type": "code",
   "execution_count": 354,
   "metadata": {},
   "outputs": [],
   "source": [
    "accuracies['Decision Trees'] = round(dec_tree.score(X_test, Y_test),2)"
   ]
  },
  {
   "cell_type": "markdown",
   "metadata": {},
   "source": [
    "## Bagging "
   ]
  },
  {
   "cell_type": "code",
   "execution_count": 355,
   "metadata": {},
   "outputs": [],
   "source": [
    "from sklearn.ensemble import BaggingClassifier"
   ]
  },
  {
   "cell_type": "code",
   "execution_count": 356,
   "metadata": {},
   "outputs": [
    {
     "name": "stdout",
     "output_type": "stream",
     "text": [
      "train score: 0.9752066115702479\n",
      "test score: 0.819672131147541\n"
     ]
    }
   ],
   "source": [
    "b_clf = BaggingClassifier(dec_tree, n_estimators = 15, max_samples = 0.7)\n",
    "b_clf.fit(X_train, Y_train)\n",
    "print(\"train score:\", b_clf.score(X_train, Y_train))\n",
    "print(\"test score:\", b_clf.score(X_test, Y_test))"
   ]
  },
  {
   "cell_type": "markdown",
   "metadata": {},
   "source": [
    "    Bagging reduced the overfitting and now the model is performing better\n",
    "    Adjusting the parameters(n_estimators = number of base estimators, max_samples = number of samples chosen from each base estimator) can improve or reduce the accuracy of the algorithm"
   ]
  },
  {
   "cell_type": "code",
   "execution_count": 357,
   "metadata": {},
   "outputs": [],
   "source": [
    "accuracies['Bagging'] = round(b_clf.score(X_test, Y_test),2)"
   ]
  },
  {
   "cell_type": "markdown",
   "metadata": {},
   "source": [
    "## Boosting"
   ]
  },
  {
   "cell_type": "code",
   "execution_count": 358,
   "metadata": {},
   "outputs": [],
   "source": [
    "from sklearn.ensemble import AdaBoostClassifier"
   ]
  },
  {
   "cell_type": "code",
   "execution_count": 359,
   "metadata": {},
   "outputs": [
    {
     "name": "stdout",
     "output_type": "stream",
     "text": [
      "train score: 1.0\n",
      "test score: 0.7213114754098361\n"
     ]
    }
   ],
   "source": [
    "adaboost = AdaBoostClassifier(dec_tree)\n",
    "adaboost.fit(X_train, Y_train)\n",
    "print(\"train score:\", adaboost.score(X_train, Y_train))\n",
    "print(\"test score:\", adaboost.score(X_test, Y_test))"
   ]
  },
  {
   "cell_type": "markdown",
   "metadata": {},
   "source": [
    "    For this dataset bagging works better than boosting because boosting did not reduce the training score and the model continues to overfit on the training set"
   ]
  },
  {
   "cell_type": "code",
   "execution_count": 360,
   "metadata": {},
   "outputs": [],
   "source": [
    "accuracies['Adaboost'] = round(adaboost.score(X_test, Y_test),2)"
   ]
  },
  {
   "cell_type": "markdown",
   "metadata": {},
   "source": [
    "## Random Forest"
   ]
  },
  {
   "cell_type": "code",
   "execution_count": 361,
   "metadata": {},
   "outputs": [],
   "source": [
    "from sklearn.ensemble import RandomForestClassifier"
   ]
  },
  {
   "cell_type": "code",
   "execution_count": 362,
   "metadata": {},
   "outputs": [
    {
     "name": "stdout",
     "output_type": "stream",
     "text": [
      "train score: 0.987603305785124\n",
      "test score: 0.8032786885245902\n"
     ]
    },
    {
     "name": "stderr",
     "output_type": "stream",
     "text": [
      "C:\\Users\\dell\\anaconda\\lib\\site-packages\\sklearn\\ensemble\\forest.py:246: FutureWarning: The default value of n_estimators will change from 10 in version 0.20 to 100 in 0.22.\n",
      "  \"10 in version 0.20 to 100 in 0.22.\", FutureWarning)\n"
     ]
    }
   ],
   "source": [
    "random_forest = RandomForestClassifier()\n",
    "random_forest.fit(X_train, Y_train)\n",
    "print(\"train score:\", random_forest.score(X_train, Y_train))\n",
    "print(\"test score:\", random_forest.score(X_test, Y_test))"
   ]
  },
  {
   "cell_type": "code",
   "execution_count": 363,
   "metadata": {},
   "outputs": [],
   "source": [
    "accuracies['Random Forest'] = round(random_forest.score(X_test, Y_test),2)"
   ]
  },
  {
   "cell_type": "markdown",
   "metadata": {},
   "source": [
    "    1. The test score is much lower than the training score, in fact the training score is almost 1 which means the model is overfitting and thus is not working very well on unseen data.\n",
    "    2. Random forests are a collection of decision trees, each tree does a better job at predicting but often the model overfits, this can be avoided by taking an aggregate of the results."
   ]
  },
  {
   "cell_type": "markdown",
   "metadata": {},
   "source": [
    "## Random Forest using K cross validation"
   ]
  },
  {
   "cell_type": "code",
   "execution_count": 364,
   "metadata": {},
   "outputs": [
    {
     "name": "stdout",
     "output_type": "stream",
     "text": [
      "avg train score: 0.7852040816326531\n",
      "avg test score: 0.7551282051282051\n"
     ]
    }
   ],
   "source": [
    "from sklearn.model_selection import cross_val_score\n",
    "scores = cross_val_score(random_forest, X_train, Y_train, cv = 5)\n",
    "print(\"avg train score:\", scores.mean()) \n",
    "scores = cross_val_score(random_forest, X_test, Y_test, cv = 5)\n",
    "print(\"avg test score:\", scores.mean()) "
   ]
  },
  {
   "cell_type": "markdown",
   "metadata": {},
   "source": [
    "    Applying k-fold cross validation on the random forest classifier gave a better result by reducing overfitting"
   ]
  },
  {
   "cell_type": "code",
   "execution_count": 365,
   "metadata": {},
   "outputs": [],
   "source": [
    "accuracies['Random forest (cross_val)'] = round(scores.mean(), 2)"
   ]
  },
  {
   "cell_type": "markdown",
   "metadata": {},
   "source": [
    "## Voting CLassifier"
   ]
  },
  {
   "cell_type": "code",
   "execution_count": 366,
   "metadata": {},
   "outputs": [],
   "source": [
    "from sklearn.ensemble import VotingClassifier"
   ]
  },
  {
   "cell_type": "code",
   "execution_count": 367,
   "metadata": {},
   "outputs": [],
   "source": [
    "voting_clf = VotingClassifier(estimators = [('lr', log_reg), ('knn', knn), ('gnb', gnb), ('svm', svc), ('rf', random_forest), ('dt', dec_tree)], voting = 'hard')"
   ]
  },
  {
   "cell_type": "code",
   "execution_count": 368,
   "metadata": {},
   "outputs": [
    {
     "name": "stdout",
     "output_type": "stream",
     "text": [
      "train score: 0.9504132231404959\n",
      "test score: 0.8360655737704918\n"
     ]
    },
    {
     "name": "stderr",
     "output_type": "stream",
     "text": [
      "C:\\Users\\dell\\anaconda\\lib\\site-packages\\sklearn\\linear_model\\logistic.py:433: FutureWarning: Default solver will be changed to 'lbfgs' in 0.22. Specify a solver to silence this warning.\n",
      "  FutureWarning)\n",
      "C:\\Users\\dell\\anaconda\\lib\\site-packages\\sklearn\\svm\\base.py:196: FutureWarning: The default value of gamma will change from 'auto' to 'scale' in version 0.22 to account better for unscaled features. Set gamma explicitly to 'auto' or 'scale' to avoid this warning.\n",
      "  \"avoid this warning.\", FutureWarning)\n",
      "C:\\Users\\dell\\anaconda\\lib\\site-packages\\sklearn\\linear_model\\logistic.py:433: FutureWarning: Default solver will be changed to 'lbfgs' in 0.22. Specify a solver to silence this warning.\n",
      "  FutureWarning)\n",
      "C:\\Users\\dell\\anaconda\\lib\\site-packages\\sklearn\\svm\\base.py:196: FutureWarning: The default value of gamma will change from 'auto' to 'scale' in version 0.22 to account better for unscaled features. Set gamma explicitly to 'auto' or 'scale' to avoid this warning.\n",
      "  \"avoid this warning.\", FutureWarning)\n"
     ]
    }
   ],
   "source": [
    "voting_clf.fit(X_train, Y_train)\n",
    "voting_clf.fit(X_train, Y_train)\n",
    "print(\"train score:\", voting_clf.score(X_train, Y_train))\n",
    "print(\"test score:\", voting_clf.score(X_test, Y_test))"
   ]
  },
  {
   "cell_type": "markdown",
   "metadata": {},
   "source": [
    "    The voting classifier (voting = hard) is overfitting the training set"
   ]
  },
  {
   "cell_type": "code",
   "execution_count": 369,
   "metadata": {},
   "outputs": [],
   "source": [
    "voting_clf2 = VotingClassifier(estimators = [('lr', log_reg), ('knn', knn), ('gnb', gnb), ('svm', svc), ('rf', random_forest)], voting = 'hard')"
   ]
  },
  {
   "cell_type": "code",
   "execution_count": 370,
   "metadata": {},
   "outputs": [
    {
     "name": "stdout",
     "output_type": "stream",
     "text": [
      "train score: 0.8801652892561983\n",
      "test score: 0.8688524590163934\n"
     ]
    },
    {
     "name": "stderr",
     "output_type": "stream",
     "text": [
      "C:\\Users\\dell\\anaconda\\lib\\site-packages\\sklearn\\linear_model\\logistic.py:433: FutureWarning: Default solver will be changed to 'lbfgs' in 0.22. Specify a solver to silence this warning.\n",
      "  FutureWarning)\n",
      "C:\\Users\\dell\\anaconda\\lib\\site-packages\\sklearn\\svm\\base.py:196: FutureWarning: The default value of gamma will change from 'auto' to 'scale' in version 0.22 to account better for unscaled features. Set gamma explicitly to 'auto' or 'scale' to avoid this warning.\n",
      "  \"avoid this warning.\", FutureWarning)\n",
      "C:\\Users\\dell\\anaconda\\lib\\site-packages\\sklearn\\linear_model\\logistic.py:433: FutureWarning: Default solver will be changed to 'lbfgs' in 0.22. Specify a solver to silence this warning.\n",
      "  FutureWarning)\n",
      "C:\\Users\\dell\\anaconda\\lib\\site-packages\\sklearn\\svm\\base.py:196: FutureWarning: The default value of gamma will change from 'auto' to 'scale' in version 0.22 to account better for unscaled features. Set gamma explicitly to 'auto' or 'scale' to avoid this warning.\n",
      "  \"avoid this warning.\", FutureWarning)\n"
     ]
    }
   ],
   "source": [
    "voting_clf2.fit(X_train, Y_train)\n",
    "voting_clf2.fit(X_train, Y_train)\n",
    "print(\"train score:\", voting_clf2.score(X_train, Y_train))\n",
    "print(\"test score:\", voting_clf2.score(X_test, Y_test))"
   ]
  },
  {
   "cell_type": "markdown",
   "metadata": {},
   "source": [
    "    The voting classifier (voting = hard) after removing the decision tree classifier gives a much better output"
   ]
  },
  {
   "cell_type": "code",
   "execution_count": 371,
   "metadata": {},
   "outputs": [],
   "source": [
    "accuracies['Voting Classifier(Hard)'] = round(voting_clf2.score(X_test, Y_test), 2)"
   ]
  },
  {
   "cell_type": "code",
   "execution_count": 372,
   "metadata": {},
   "outputs": [
    {
     "data": {
      "image/png": "[encoded data removed]",
      "text/plain": [
       "<Figure size 1080x576 with 1 Axes>"
      ]
     },
     "metadata": {
      "needs_background": "light"
     },
     "output_type": "display_data"
    }
   ],
   "source": [
    "plt.figure(figsize = (15, 8))\n",
    "plt.bar(accuracies.keys(), accuracies.values())\n",
    "plt.xticks(rotation = 90)\n",
    "plt.show()"
   ]
  },
  {
   "cell_type": "markdown",
   "metadata": {},
   "source": [
    "    It is clear that for this particular model Gaussian Naive Bayes is the best model followed by voting classifiers and       K-Nearest Neighbors\n",
    "    GNB gives an accuracy score of 89% which is higher than all other models"
   ]
  },
  {
   "cell_type": "code",
   "execution_count": 374,
   "metadata": {},
   "outputs": [
    {
     "data": {
      "text/plain": [
       "{'Voting Classifier(Hard)': 0.87,\n",
       " 'Logistic Regression': 0.84,\n",
       " 'K-Nearest Neighbors': 0.87,\n",
       " 'Gaussian NB': 0.89,\n",
       " 'Support Vector Machine': 0.85,\n",
       " 'Decision Trees': 0.72,\n",
       " 'Bagging': 0.82,\n",
       " 'Adaboost': 0.72,\n",
       " 'Random Forest': 0.8,\n",
       " 'Random forest (cross_val)': 0.76}"
      ]
     },
     "execution_count": 374,
     "metadata": {},
     "output_type": "execute_result"
    }
   ],
   "source": [
    "accuracies"
   ]
  },
  {
   "cell_type": "code",
   "execution_count": null,
   "metadata": {},
   "outputs": [],
   "source": []
  }
 ],
 "metadata": {
  "kernelspec": {
   "display_name": "Python 3",
   "language": "python",
   "name": "python3"
  },
  "language_info": {
   "codemirror_mode": {
    "name": "ipython",
    "version": 3
   },
   "file_extension": ".py",
   "mimetype": "text/x-python",
   "name": "python",
   "nbconvert_exporter": "python",
   "pygments_lexer": "ipython3",
   "version": "3.8.5"
  }
 },
 "nbformat": 4,
 "nbformat_minor": 2
}
